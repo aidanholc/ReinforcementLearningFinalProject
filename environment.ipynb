{
 "cells": [
  {
   "cell_type": "code",
   "execution_count": 49,
   "metadata": {},
   "outputs": [],
   "source": [
    "from pokerkit import *\n",
    "import numpy as np\n",
    "from tqdm import tqdm\n",
    "from concurrent.futures import ProcessPoolExecutor\n",
    "\n",
    "# Visualizations\n",
    "import matplotlib.pyplot as plt\n",
    "\n",
    "# PyTorch\n",
    "import torch\n",
    "import torch.nn as nn\n",
    "import torch.optim as optim\n",
    "import torch.nn.functional as F\n",
    "from torch.utils.data import DataLoader, TensorDataset"
   ]
  },
  {
   "cell_type": "code",
   "execution_count": 176,
   "metadata": {},
   "outputs": [],
   "source": [
    "class PokerEnvironment:\n",
    "    def __init__(self, config):\n",
    "        self.config = config\n",
    "        self.n_samples = config['monte_carlo_sample_size']\n",
    "\n",
    "        # Start hand\n",
    "        self.game_state = NoLimitTexasHoldem.create_state(\n",
    "            automations=(\n",
    "                Automation.ANTE_POSTING,\n",
    "                Automation.BET_COLLECTION,\n",
    "                Automation.BLIND_OR_STRADDLE_POSTING,\n",
    "                Automation.HOLE_CARDS_SHOWING_OR_MUCKING,\n",
    "                Automation.HAND_KILLING,\n",
    "                Automation.CHIPS_PUSHING,\n",
    "                Automation.CHIPS_PULLING\n",
    "            ),\n",
    "            ante_trimming_status=False,\n",
    "            raw_antes=0,\n",
    "            raw_blinds_or_straddles=(1,2),\n",
    "            min_bet=2,\n",
    "            raw_starting_stacks=(self.config['player_0_stack'], self.config['player_1_stack']),\n",
    "            player_count=2,\n",
    "            mode = Mode.CASH_GAME\n",
    "        )\n",
    "\n",
    "        # Initialize Variables\n",
    "        self.raises = [0, 0]\n",
    "        self.calls = [0, 0]\n",
    "        self.played_hands = [0, 0]\n",
    "        self.total_hands = 0\n",
    "\n",
    "        self.last_pot_size = -999\n",
    "        self.is_complete = False\n",
    "        self.has_played_current_hand = [False, False]\n",
    "        self.hand_state = 0\n",
    "        self.total_hands += 1\n",
    "        # Deal Preflop Cards\n",
    "        for i in range(4):\n",
    "            self.game_state.deal_hole()\n",
    "        self.pot_size = self.game_state.total_pot_amount\n",
    "\n",
    "\n",
    "    def reset(self):\n",
    "        stacks = self.game_state.stacks\n",
    "        if self.stack[0] == 0:\n",
    "            print('PLAYER 0 RAN OUT OF MONEY')\n",
    "            stacks[0] = self.config['player_0_stack']\n",
    "        elif self.stack[1] == 0:\n",
    "            print('PLAYER 1 RAN OUT OF MONEY')\n",
    "            stacks[1] = self.config['player_1_stack']\n",
    "        else:\n",
    "            self.game_state = NoLimitTexasHoldem.create_state(\n",
    "                automations=(\n",
    "                    Automation.ANTE_POSTING,\n",
    "                    Automation.BET_COLLECTION,\n",
    "                    Automation.BLIND_OR_STRADDLE_POSTING,\n",
    "                    Automation.HOLE_CARDS_SHOWING_OR_MUCKING,\n",
    "                    Automation.HAND_KILLING,\n",
    "                    Automation.CHIPS_PUSHING,\n",
    "                    Automation.CHIPS_PULLING\n",
    "                ),\n",
    "                ante_trimming_status=False,\n",
    "                raw_antes=0,\n",
    "                raw_blinds_or_straddles=(1,2),\n",
    "                min_bet=2,\n",
    "                raw_starting_stacks=(stacks[0], stacks[1]),\n",
    "                player_count=2,\n",
    "                mode = Mode.CASH_GAME\n",
    "            )\n",
    "\n",
    "            self.last_pot_size = -999\n",
    "            self.is_complete = False\n",
    "            self.has_played_current_hand = [False, False]\n",
    "            self.hand_state = 0\n",
    "            self.total_hands += 1\n",
    "            # Deal Preflop Cards\n",
    "            for i in range(4):\n",
    "                self.game_state.deal_hole()\n",
    "            self.pot_size = self.game_state.total_pot_amount\n",
    "\n",
    "\n",
    "        \n",
    "    def get_state(self, player_index):\n",
    "        if player_index < 0 or player_index > 1 :\n",
    "            raise Exception('Player Index can only be 0 or 1')\n",
    "        hand = self.game_state.hole_cards[player_index]\n",
    "        board = self.game_state.board_cards\n",
    "        hand_strength = self._calculate_hand_strength(hand, board, self.n_samples)\n",
    "        # TODO:: Hand Potential\n",
    "        hand_state = self.hand_state # are we preflop, flop, turn, or river\n",
    "        bets = self.game_state.bets\n",
    "        pot_size = self.pot_size\n",
    "        if player_index == 0:\n",
    "            money_to_call = max(bets[1] - bets[0], 0)\n",
    "            stack = self.game_state.stacks[0]\n",
    "            af = self._calculate_af(self.raises[1], self.calls[1]) # calculate player 1's af\n",
    "            lh = self._calculate_lh(self.played_hands[1])\n",
    "        else:\n",
    "            money_to_call = max(bets[0] - bets[1], 0)\n",
    "            stack = self.game_state.stacks[1]\n",
    "            af = self._calculate_af(self.raises[0], self.calls[0]) # calculate player 0's af\n",
    "            lh = self._calculate_lh(self.played_hands[0])\n",
    "        \n",
    "        return {'stack': stack,\n",
    "                'pot_size': pot_size,\n",
    "                'money_to_call': money_to_call,\n",
    "                'hand_strength': hand_strength,\n",
    "                'af': af,\n",
    "                'lh': lh,\n",
    "                'hand_state': hand_state,\n",
    "                'done': self.is_complete}\n",
    "    \n",
    "\n",
    "    def _calculate_af(self, raises, calls):\n",
    "        if calls == 0:\n",
    "            af = -1\n",
    "        else:\n",
    "            af = raises / calls\n",
    "        return af\n",
    "    \n",
    "    def _calculate_lh(self, played_hands):\n",
    "        if self.total_hands < 10:\n",
    "            lh = 1#0.75\n",
    "        else:\n",
    "            lh = played_hands / self.total_hands\n",
    "        return lh\n",
    "    \n",
    "\n",
    "    def _calculate_hand_strength(self, hand, board, n_samples):\n",
    "        hand = frozenset([frozenset(hand)])\n",
    "        #print(hand)\n",
    "        board = frozenset([x[0] for x in board])\n",
    "        #print(board)\n",
    "        strength = calculate_hand_strength(\n",
    "            player_count= 2,\n",
    "            hole_range = hand,\n",
    "            board_cards = board,\n",
    "            hole_dealing_count=2,\n",
    "            board_dealing_count=5,\n",
    "            deck=Deck.STANDARD,\n",
    "            hand_types=(StandardHighHand,),\n",
    "            sample_count=n_samples,\n",
    "            #executor=executor\n",
    "        )\n",
    "        return strength\n",
    "\n",
    "\n",
    "    def _calculate_hand_potential(self, hand, board, n_samples):\n",
    "        return 0.5\n",
    "    \n",
    "\n",
    "    def _calculate_opponent_hand_potential(self, your_hand, board, outer_sim_samples, inner_sim_samples):\n",
    "        potentials = list()\n",
    "        for i in range(outer_sim_samples):\n",
    "            potentials.append(self._calculate_hand_potential(your_hand, board, inner_sim_samples))\n",
    "        return np.mean(potentials)\n",
    "\n",
    "\n",
    "    def step(self, action, player_index):\n",
    "        self.is_complete = False\n",
    "\n",
    "        # Handle Folds\n",
    "        if not action['fold']:\n",
    "            self.has_played_current_hand[player_index] = True\n",
    "        else:\n",
    "            self.game_state.fold()\n",
    "            self.is_complete = True\n",
    "\n",
    "        # Handle Checks or Calls \n",
    "        if action['check_or_call']:\n",
    "            output = self.game_state.check_or_call()\n",
    "            self.calls[player_index] += 1\n",
    "            self.pot_size += output.amount\n",
    "\n",
    "        # Handle Raises\n",
    "        if action['raise']:\n",
    "            output = self.game_state.complete_bet_or_raise_to(action['bet_size'])\n",
    "            self.raises[player_index] += 1\n",
    "            self.pot_size += output.amount\n",
    "\n",
    "        \n",
    "        # Check if game is over\n",
    "        is_player_0_in_hand = self.game_state.statuses[0]\n",
    "        is_player_1_in_hand = self.game_state.statuses[1]\n",
    "        if not (is_player_0_in_hand and is_player_1_in_hand):\n",
    "            self.is_complete = True\n",
    "\n",
    "        # Handle if players are all in\n",
    "        if self.game_state.all_in_status:\n",
    "            self.select_runout_count(1)\n",
    "            self.select_runout_count(1)\n",
    "            while self.game_state.can_burn_card():\n",
    "                self.hand_state += 1\n",
    "                self.game_state.burn_card()\n",
    "                self.game_state.deal_board()\n",
    "            self.is_complete = True\n",
    "\n",
    "        if self.is_complete:\n",
    "            if self.has_played_current_hand[0]:\n",
    "                self.played_hands[0] += 1\n",
    "            if self.has_played_current_hand[1]:\n",
    "                self.played_hands[1] += 1\n",
    "            \n",
    "\n",
    "        # Increment hand state\n",
    "        if self.game_state.can_burn_card():\n",
    "            self.hand_state += 1\n",
    "            self.game_state.burn_card()\n",
    "            self.game_state.deal_board()\n",
    "        \n",
    "        return self.is_complete\n",
    "\n",
    "\n",
    "    def reward(self, state, player_index):\n",
    "        # Handle reward if user won/lost\n",
    "        if state['done']:\n",
    "            did_win = self.game_state.statuses[player_index]\n",
    "            if did_win:\n",
    "                return state['pot_size']\n",
    "            else:\n",
    "                return -1 * state['pot_size']\n",
    "        # Handle reward if mid hand\n",
    "        epsilon = 0.001\n",
    "        return ((state['hand_strength'] ** (1/(state['lh'] + epsilon))) - (1 - (state['hand_strength'] ** (1/(state['lh'] + epsilon))))) * state['pot_size']"
   ]
  },
  {
   "cell_type": "code",
   "execution_count": 7,
   "metadata": {},
   "outputs": [],
   "source": [
    "class MLP(nn.Module):\n",
    "    def __init__(self, input_size, hidden_size):\n",
    "        super(MLP, self).__init__()\n",
    "        self.fc1 = nn.Linear(input_size, hidden_size)    #First fully connected layer\n",
    "        self.fc2 = nn.Linear(hidden_size, hidden_size)    #Second fully connected layer\n",
    "        self.fc3 = nn.Linear(hidden_size, 1)    #Output layer\n",
    "\n",
    "    def forward(self, x):\n",
    "        x = F.relu(self.fc1(x))    #ReLU activation for the first layer\n",
    "        x = F.relu(self.fc2(x))    #ReLU activation for the second layer\n",
    "        x = self.fc3(x)    #Output layer (no activation because this is a regression problem)\n",
    "        return x"
   ]
  },
  {
   "cell_type": "code",
   "execution_count": 145,
   "metadata": {},
   "outputs": [],
   "source": [
    "class BaseAgent:\n",
    "    def __init__(self, config):\n",
    "        self.config = config\n",
    "    \n",
    "    def policy(self, state, epsilon):\n",
    "        return self.config['A'][0]"
   ]
  },
  {
   "cell_type": "code",
   "execution_count": 146,
   "metadata": {},
   "outputs": [],
   "source": [
    "def handle_action(raw_action):\n",
    "    \"\"\"\n",
    "    Clean's agent's action into something the environment can handle\n",
    "    \"\"\"\n",
    "    if raw_action == 'check_or_call':\n",
    "        return {'fold': False,\n",
    "                'check_or_call' : True,\n",
    "                'raise': False,\n",
    "                'bet_size': 0 #technically only need this when raise = True\n",
    "                }"
   ]
  },
  {
   "cell_type": "code",
   "execution_count": 116,
   "metadata": {},
   "outputs": [
    {
     "data": {
      "text/plain": [
       "[3d, Kc, 2d]"
      ]
     },
     "execution_count": 116,
     "metadata": {},
     "output_type": "execute_result"
    }
   ],
   "source": [
    "list(Card.parse('3dKc2d'))"
   ]
  },
  {
   "cell_type": "code",
   "execution_count": 175,
   "metadata": {},
   "outputs": [
    {
     "name": "stdout",
     "output_type": "stream",
     "text": [
      "{'stack': 198, 'pot_size': 3, 'money_to_call': 0, 'hand_strength': 0.5616666666666666, 'af': -1, 'lh': 1, 'hand_state': 0, 'done': False}\n",
      "{'stack': 199, 'pot_size': 3, 'money_to_call': 1, 'hand_strength': 0.6266666666666667, 'af': -1, 'lh': 1, 'hand_state': 0, 'done': False}\n",
      "agent 0 reward: 0.20201016927965276\n",
      "agent 1 reward: 0.7017873232652481\n",
      "{'stack': 198, 'pot_size': 4, 'money_to_call': 0, 'hand_strength': 0.49666666666666665, 'af': 0.0, 'lh': 1, 'hand_state': 1, 'done': False}\n",
      "{'stack': 198, 'pot_size': 4, 'money_to_call': 0, 'hand_strength': 0.5683333333333334, 'af': 0.0, 'lh': 1, 'hand_state': 1, 'done': False}\n",
      "agent 0 reward: 0.08274542455746836\n",
      "agent 1 reward: 1.3754701712451096\n",
      "{'stack': 198, 'pot_size': 4, 'money_to_call': 0, 'hand_strength': 0.37166666666666665, 'af': 0.0, 'lh': 1, 'hand_state': 2, 'done': False}\n",
      "{'stack': 198, 'pot_size': 4, 'money_to_call': 0, 'hand_strength': 0.5916666666666667, 'af': 0.0, 'lh': 1, 'hand_state': 2, 'done': False}\n",
      "agent 0 reward: -0.997059011161401\n",
      "agent 1 reward: 0.4959234548087066\n",
      "{'stack': 198, 'pot_size': 4, 'money_to_call': 0, 'hand_strength': 0.13666666666666666, 'af': 0.0, 'lh': 1, 'hand_state': 3, 'done': False}\n",
      "{'stack': 198, 'pot_size': 4, 'money_to_call': 0, 'hand_strength': 0.38166666666666665, 'af': 0.0, 'lh': 1, 'hand_state': 3, 'done': False}\n",
      "agent 0 reward: -3.1047080807752376\n",
      "agent 1 reward: -0.49044281881380214\n",
      "{'stack': 198, 'pot_size': 4, 'money_to_call': 0, 'hand_strength': 0.525, 'af': 0.0, 'lh': 1, 'hand_state': 3, 'done': True}\n",
      "{'stack': 202, 'pot_size': 4, 'money_to_call': 0, 'hand_strength': 0.38666666666666666, 'af': 0.0, 'lh': 1, 'hand_state': 3, 'done': True}\n",
      "agent 0 reward: -4\n",
      "agent 1 reward: 4\n"
     ]
    }
   ],
   "source": [
    "config = {'monte_carlo_sample_size': 300,\n",
    "          'player_0_stack': 200,\n",
    "          'player_1_stack': 200}\n",
    "poker = PokerEnvironment(config)\n",
    "\n",
    "agent_0 = BaseAgent({'A': ['check_or_call']})\n",
    "agent_1 = BaseAgent({'A': ['check_or_call']})\n",
    "\n",
    "done = False\n",
    "\n",
    "while not done:\n",
    "\n",
    "    agent_0_state = poker.get_state(0)\n",
    "    agent_1_state = poker.get_state(1)\n",
    "    print(poker.get_state(0))\n",
    "    print(poker.get_state(1))\n",
    "\n",
    "    print(f\"agent 0 reward: {poker.reward(agent_0_state, 0)}\")\n",
    "    print(f\"agent 1 reward: {poker.reward(agent_1_state, 1)}\")\n",
    "\n",
    "    agent_0_action = agent_0.policy(agent_0_state, 1)\n",
    "    agent_1_action = agent_1.policy(agent_1_state, 1)\n",
    "\n",
    "    agent_0_action = handle_action(agent_0_action)\n",
    "    agent_1_action = handle_action(agent_1_action)\n",
    "\n",
    "    done = poker.step(agent_1_action, 1)\n",
    "    if not done:\n",
    "        done = poker.step(agent_0_action, 0)\n",
    "print(poker.get_state(0))\n",
    "print(poker.get_state(1))\n",
    "\n",
    "\n",
    "agent_0_state = poker.get_state(0)\n",
    "agent_1_state = poker.get_state(1)\n",
    "\n",
    "print(f\"agent 0 reward: {poker.reward(agent_0_state, 0)}\")\n",
    "print(f\"agent 1 reward: {poker.reward(agent_1_state, 1)}\")"
   ]
  },
  {
   "cell_type": "code",
   "execution_count": 138,
   "metadata": {},
   "outputs": [
    {
     "data": {
      "text/plain": [
       "{'stack': 202,\n",
       " 'pot_size': 0,\n",
       " 'money_to_call': 0,\n",
       " 'hand_strength': 0.475,\n",
       " 'af': 0.0,\n",
       " 'lh': 0.75,\n",
       " 'hand_state': 3,\n",
       " 'done': True}"
      ]
     },
     "execution_count": 138,
     "metadata": {},
     "output_type": "execute_result"
    }
   ],
   "source": [
    "poker.get_state(0)"
   ]
  },
  {
   "cell_type": "code",
   "execution_count": 137,
   "metadata": {},
   "outputs": [
    {
     "data": {
      "text/plain": [
       "[Pot(raked_amount=0, unraked_amount=0, player_indices=(0,))]"
      ]
     },
     "execution_count": 137,
     "metadata": {},
     "output_type": "execute_result"
    }
   ],
   "source": [
    "list(poker.game_state.pots)"
   ]
  },
  {
   "cell_type": "code",
   "execution_count": 126,
   "metadata": {},
   "outputs": [
    {
     "data": {
      "text/plain": [
       "[True, False]"
      ]
     },
     "execution_count": 126,
     "metadata": {},
     "output_type": "execute_result"
    }
   ],
   "source": [
    "poker.game_state.statuses"
   ]
  },
  {
   "cell_type": "code",
   "execution_count": 125,
   "metadata": {},
   "outputs": [
    {
     "name": "stdout",
     "output_type": "stream",
     "text": [
      "frozenset({frozenset()})\n",
      "frozenset({4s, 2d, 6s, Th, 2c})\n"
     ]
    },
    {
     "data": {
      "text/plain": [
       "{'stack': 198,\n",
       " 'pot_size': 0,\n",
       " 'money_to_call': 0,\n",
       " 'hand_strength': 0.515,\n",
       " 'af': 0.0,\n",
       " 'lh': 0.75,\n",
       " 'hand_state': 3}"
      ]
     },
     "execution_count": 125,
     "metadata": {},
     "output_type": "execute_result"
    }
   ],
   "source": [
    "poker.get_state(1)"
   ]
  },
  {
   "cell_type": "code",
   "execution_count": 97,
   "metadata": {},
   "outputs": [
    {
     "data": {
      "text/plain": [
       "False"
      ]
     },
     "execution_count": 97,
     "metadata": {},
     "output_type": "execute_result"
    }
   ],
   "source": []
  },
  {
   "cell_type": "code",
   "execution_count": 98,
   "metadata": {},
   "outputs": [
    {
     "data": {
      "text/plain": [
       "[[6h], [Th], [3s]]"
      ]
     },
     "execution_count": 98,
     "metadata": {},
     "output_type": "execute_result"
    }
   ],
   "source": [
    "poker.game_state.board_cards"
   ]
  },
  {
   "cell_type": "code",
   "execution_count": null,
   "metadata": {},
   "outputs": [],
   "source": [
    "agent_0.policy()"
   ]
  },
  {
   "cell_type": "code",
   "execution_count": 64,
   "metadata": {},
   "outputs": [
    {
     "name": "stderr",
     "output_type": "stream",
     "text": [
      "100%|██████████| 100/100 [00:33<00:00,  2.98it/s]\n"
     ]
    },
    {
     "data": {
      "image/png": "[encoded data removed]",
      "text/plain": [
       "<Figure size 640x480 with 1 Axes>"
      ]
     },
     "metadata": {},
     "output_type": "display_data"
    }
   ],
   "source": [
    "sample_size = 100\n",
    "config = {'monte_carlo_sample_size': sample_size,\n",
    "          'player_0_stack': 200,\n",
    "          'player_1_stack': 200}\n",
    "poker = PokerEnvironment(config)\n",
    "\n",
    "agent_0 = BaseAgent({'A': ['check_or_call']})\n",
    "agent_1 = BaseAgent({'A': ['check_or_call']})\n",
    "strengths = list()\n",
    "for i in tqdm(range(100)):\n",
    "    strengths.append(poker.get_state(1)['hand_strength'])\n",
    "\n",
    "plt.hist(strengths)\n",
    "plt.title(f'Hist of sample size: {sample_size}\\nStandard Deviation: {np.std(strengths)}')\n",
    "plt.show()"
   ]
  },
  {
   "cell_type": "code",
   "execution_count": 65,
   "metadata": {},
   "outputs": [
    {
     "name": "stderr",
     "output_type": "stream",
     "text": [
      "100%|██████████| 100/100 [00:36<00:00,  2.76it/s]\n"
     ]
    },
    {
     "data": {
      "image/png": "[encoded data removed]",
      "text/plain": [
       "<Figure size 640x480 with 1 Axes>"
      ]
     },
     "metadata": {},
     "output_type": "display_data"
    }
   ],
   "source": [
    "sample_size = 200\n",
    "config = {'monte_carlo_sample_size': sample_size,\n",
    "          'player_0_stack': 200,\n",
    "          'player_1_stack': 200}\n",
    "poker = PokerEnvironment(config)\n",
    "\n",
    "agent_0 = BaseAgent({'A': ['check_or_call']})\n",
    "agent_1 = BaseAgent({'A': ['check_or_call']})\n",
    "strengths = list()\n",
    "for i in tqdm(range(100)):\n",
    "    strengths.append(poker.get_state(1)['hand_strength'])\n",
    "\n",
    "plt.hist(strengths)\n",
    "plt.title(f'Hist of sample size: {sample_size}\\nStandard Deviation: {np.std(strengths)}')\n",
    "plt.show()"
   ]
  },
  {
   "cell_type": "code",
   "execution_count": 71,
   "metadata": {},
   "outputs": [
    {
     "name": "stderr",
     "output_type": "stream",
     "text": [
      "100%|██████████| 100/100 [00:11<00:00,  8.54it/s]\n"
     ]
    },
    {
     "data": {
      "image/png": "[encoded data removed]",
      "text/plain": [
       "<Figure size 640x480 with 1 Axes>"
      ]
     },
     "metadata": {},
     "output_type": "display_data"
    }
   ],
   "source": [
    "sample_size = 300\n",
    "config = {'monte_carlo_sample_size': sample_size,\n",
    "          'player_0_stack': 200,\n",
    "          'player_1_stack': 200}\n",
    "poker = PokerEnvironment(config)\n",
    "\n",
    "agent_0 = BaseAgent({'A': ['check_or_call']})\n",
    "agent_1 = BaseAgent({'A': ['check_or_call']})\n",
    "strengths = list()\n",
    "for i in tqdm(range(100)):\n",
    "    strengths.append(poker.get_state(1)['hand_strength'])\n",
    "\n",
    "plt.hist(strengths)\n",
    "plt.title(f'Hist of sample size: {sample_size}\\nStandard Deviation: {np.std(strengths)}')\n",
    "plt.show()"
   ]
  },
  {
   "cell_type": "code",
   "execution_count": 67,
   "metadata": {},
   "outputs": [
    {
     "name": "stderr",
     "output_type": "stream",
     "text": [
      "100%|██████████| 100/100 [00:47<00:00,  2.11it/s]\n"
     ]
    },
    {
     "data": {
      "image/png": "[encoded data removed]",
      "text/plain": [
       "<Figure size 640x480 with 1 Axes>"
      ]
     },
     "metadata": {},
     "output_type": "display_data"
    }
   ],
   "source": [
    "sample_size = 500\n",
    "config = {'monte_carlo_sample_size': sample_size,\n",
    "          'player_0_stack': 200,\n",
    "          'player_1_stack': 200}\n",
    "poker = PokerEnvironment(config)\n",
    "\n",
    "agent_0 = BaseAgent({'A': ['check_or_call']})\n",
    "agent_1 = BaseAgent({'A': ['check_or_call']})\n",
    "strengths = list()\n",
    "for i in tqdm(range(100)):\n",
    "    strengths.append(poker.get_state(1)['hand_strength'])\n",
    "\n",
    "plt.hist(strengths)\n",
    "plt.title(f'Hist of sample size: {sample_size}\\nStandard Deviation: {np.std(strengths)}')\n",
    "plt.show()"
   ]
  },
  {
   "cell_type": "code",
   "execution_count": 47,
   "metadata": {},
   "outputs": [
    {
     "name": "stderr",
     "output_type": "stream",
     "text": [
      "100%|██████████| 100/100 [01:12<00:00,  1.39it/s]\n"
     ]
    },
    {
     "data": {
      "image/png": "[encoded data removed]",
      "text/plain": [
       "<Figure size 640x480 with 1 Axes>"
      ]
     },
     "metadata": {},
     "output_type": "display_data"
    }
   ],
   "source": [
    "sample_size = 1000\n",
    "config = {'monte_carlo_sample_size': sample_size,\n",
    "          'player_0_stack': 200,\n",
    "          'player_1_stack': 200}\n",
    "poker = PokerEnvironment(config)\n",
    "\n",
    "agent_0 = BaseAgent({'A': ['check_or_call']})\n",
    "agent_1 = BaseAgent({'A': ['check_or_call']})\n",
    "strengths = list()\n",
    "for i in tqdm(range(100)):\n",
    "    strengths.append(poker.get_state(1)['hand_strength'])\n",
    "\n",
    "plt.hist(strengths)\n",
    "plt.title(f'Hist of sample size: {sample_size}\\nStandard Deviation: {np.std(strengths)}')\n",
    "plt.show()"
   ]
  },
  {
   "cell_type": "code",
   "execution_count": 62,
   "metadata": {},
   "outputs": [
    {
     "name": "stderr",
     "output_type": "stream",
     "text": [
      " 15%|█▌        | 15/100 [00:27<02:33,  1.81s/it]\n"
     ]
    },
    {
     "ename": "KeyboardInterrupt",
     "evalue": "",
     "output_type": "error",
     "traceback": [
      "\u001b[1;31m---------------------------------------------------------------------------\u001b[0m",
      "\u001b[1;31mKeyboardInterrupt\u001b[0m                         Traceback (most recent call last)",
      "Cell \u001b[1;32mIn[62], line 11\u001b[0m\n\u001b[0;32m      9\u001b[0m strengths \u001b[38;5;241m=\u001b[39m \u001b[38;5;28mlist\u001b[39m()\n\u001b[0;32m     10\u001b[0m \u001b[38;5;28;01mfor\u001b[39;00m i \u001b[38;5;129;01min\u001b[39;00m tqdm(\u001b[38;5;28mrange\u001b[39m(\u001b[38;5;241m100\u001b[39m)):\n\u001b[1;32m---> 11\u001b[0m     strengths\u001b[38;5;241m.\u001b[39mappend(\u001b[43mpoker\u001b[49m\u001b[38;5;241;43m.\u001b[39;49m\u001b[43mget_state\u001b[49m\u001b[43m(\u001b[49m\u001b[38;5;241;43m1\u001b[39;49m\u001b[43m)\u001b[49m[\u001b[38;5;124m'\u001b[39m\u001b[38;5;124mhand_strength\u001b[39m\u001b[38;5;124m'\u001b[39m])\n\u001b[0;32m     13\u001b[0m plt\u001b[38;5;241m.\u001b[39mhist(strengths)\n\u001b[0;32m     14\u001b[0m plt\u001b[38;5;241m.\u001b[39mtitle(\u001b[38;5;124mf\u001b[39m\u001b[38;5;124m'\u001b[39m\u001b[38;5;124mHist of sample size: \u001b[39m\u001b[38;5;132;01m{\u001b[39;00msample_size\u001b[38;5;132;01m}\u001b[39;00m\u001b[38;5;130;01m\\n\u001b[39;00m\u001b[38;5;124mStandard Deviation: \u001b[39m\u001b[38;5;132;01m{\u001b[39;00mnp\u001b[38;5;241m.\u001b[39mstd(strengths)\u001b[38;5;132;01m}\u001b[39;00m\u001b[38;5;124m'\u001b[39m)\n",
      "Cell \u001b[1;32mIn[56], line 82\u001b[0m, in \u001b[0;36mPokerEnvironment.get_state\u001b[1;34m(self, player_index)\u001b[0m\n\u001b[0;32m     80\u001b[0m hand \u001b[38;5;241m=\u001b[39m \u001b[38;5;28mself\u001b[39m\u001b[38;5;241m.\u001b[39mgame_state\u001b[38;5;241m.\u001b[39mhole_cards[player_index]\n\u001b[0;32m     81\u001b[0m board \u001b[38;5;241m=\u001b[39m \u001b[38;5;28mself\u001b[39m\u001b[38;5;241m.\u001b[39mgame_state\u001b[38;5;241m.\u001b[39mboard_cards\n\u001b[1;32m---> 82\u001b[0m hand_strength \u001b[38;5;241m=\u001b[39m \u001b[38;5;28;43mself\u001b[39;49m\u001b[38;5;241;43m.\u001b[39;49m\u001b[43m_calculate_hand_strength\u001b[49m\u001b[43m(\u001b[49m\u001b[43mhand\u001b[49m\u001b[43m,\u001b[49m\u001b[43m \u001b[49m\u001b[43mboard\u001b[49m\u001b[43m,\u001b[49m\u001b[43m \u001b[49m\u001b[38;5;28;43mself\u001b[39;49m\u001b[38;5;241;43m.\u001b[39;49m\u001b[43mn_samples\u001b[49m\u001b[43m)\u001b[49m\n\u001b[0;32m     83\u001b[0m \u001b[38;5;66;03m# TODO:: Hand Potential\u001b[39;00m\n\u001b[0;32m     84\u001b[0m hand_state \u001b[38;5;241m=\u001b[39m \u001b[38;5;28mself\u001b[39m\u001b[38;5;241m.\u001b[39mhand_state \u001b[38;5;66;03m# are we preflop, flop, turn, or river\u001b[39;00m\n",
      "Cell \u001b[1;32mIn[56], line 125\u001b[0m, in \u001b[0;36mPokerEnvironment._calculate_hand_strength\u001b[1;34m(self, hand, board, n_samples)\u001b[0m\n\u001b[0;32m    123\u001b[0m hand \u001b[38;5;241m=\u001b[39m [hand]\n\u001b[0;32m    124\u001b[0m \u001b[38;5;28;01mwith\u001b[39;00m ProcessPoolExecutor(max_workers\u001b[38;5;241m=\u001b[39m\u001b[38;5;241m4\u001b[39m) \u001b[38;5;28;01mas\u001b[39;00m executor:\n\u001b[1;32m--> 125\u001b[0m     strength \u001b[38;5;241m=\u001b[39m \u001b[43mcalculate_hand_strength\u001b[49m\u001b[43m(\u001b[49m\n\u001b[0;32m    126\u001b[0m \u001b[43m        \u001b[49m\u001b[43mplayer_count\u001b[49m\u001b[38;5;241;43m=\u001b[39;49m\u001b[43m \u001b[49m\u001b[38;5;241;43m2\u001b[39;49m\u001b[43m,\u001b[49m\n\u001b[0;32m    127\u001b[0m \u001b[43m        \u001b[49m\u001b[43mhole_range\u001b[49m\u001b[43m \u001b[49m\u001b[38;5;241;43m=\u001b[39;49m\u001b[43m \u001b[49m\u001b[43mhand\u001b[49m\u001b[43m,\u001b[49m\n\u001b[0;32m    128\u001b[0m \u001b[43m        \u001b[49m\u001b[43mboard_cards\u001b[49m\u001b[43m \u001b[49m\u001b[38;5;241;43m=\u001b[39;49m\u001b[43m \u001b[49m\u001b[43mboard\u001b[49m\u001b[43m,\u001b[49m\n\u001b[0;32m    129\u001b[0m \u001b[43m        \u001b[49m\u001b[43mhole_dealing_count\u001b[49m\u001b[38;5;241;43m=\u001b[39;49m\u001b[38;5;241;43m2\u001b[39;49m\u001b[43m,\u001b[49m\n\u001b[0;32m    130\u001b[0m \u001b[43m        \u001b[49m\u001b[43mboard_dealing_count\u001b[49m\u001b[38;5;241;43m=\u001b[39;49m\u001b[38;5;241;43m5\u001b[39;49m\u001b[43m,\u001b[49m\n\u001b[0;32m    131\u001b[0m \u001b[43m        \u001b[49m\u001b[43mdeck\u001b[49m\u001b[38;5;241;43m=\u001b[39;49m\u001b[43mDeck\u001b[49m\u001b[38;5;241;43m.\u001b[39;49m\u001b[43mSTANDARD\u001b[49m\u001b[43m,\u001b[49m\n\u001b[0;32m    132\u001b[0m \u001b[43m        \u001b[49m\u001b[43mhand_types\u001b[49m\u001b[38;5;241;43m=\u001b[39;49m\u001b[43m(\u001b[49m\u001b[43mStandardHighHand\u001b[49m\u001b[43m,\u001b[49m\u001b[43m)\u001b[49m\u001b[43m,\u001b[49m\n\u001b[0;32m    133\u001b[0m \u001b[43m        \u001b[49m\u001b[43msample_count\u001b[49m\u001b[38;5;241;43m=\u001b[39;49m\u001b[43mn_samples\u001b[49m\u001b[43m,\u001b[49m\n\u001b[0;32m    134\u001b[0m \u001b[43m        \u001b[49m\u001b[43mexecutor\u001b[49m\u001b[38;5;241;43m=\u001b[39;49m\u001b[43mexecutor\u001b[49m\n\u001b[0;32m    135\u001b[0m \u001b[43m    \u001b[49m\u001b[43m)\u001b[49m\n\u001b[0;32m    136\u001b[0m \u001b[38;5;28;01mreturn\u001b[39;00m strength\n",
      "File \u001b[1;32mc:\\Users\\holcombea\\AppData\\Local\\Programs\\Python\\Python311\\Lib\\site-packages\\pokerkit\\analysis.py:403\u001b[0m, in \u001b[0;36mcalculate_hand_strength\u001b[1;34m(player_count, hole_range, board_cards, hole_dealing_count, board_dealing_count, deck, hand_types, sample_count, executor)\u001b[0m\n\u001b[0;32m    397\u001b[0m hole_ranges: \u001b[38;5;28mlist\u001b[39m[Iterable[Iterable[Card]]] \u001b[38;5;241m=\u001b[39m [\n\u001b[0;32m    398\u001b[0m     [[]] \u001b[38;5;28;01mfor\u001b[39;00m _ \u001b[38;5;129;01min\u001b[39;00m \u001b[38;5;28mrange\u001b[39m(player_count \u001b[38;5;241m-\u001b[39m \u001b[38;5;241m1\u001b[39m)\n\u001b[0;32m    399\u001b[0m ]\n\u001b[0;32m    401\u001b[0m hole_ranges\u001b[38;5;241m.\u001b[39mappend(hole_range)\n\u001b[1;32m--> 403\u001b[0m equities \u001b[38;5;241m=\u001b[39m \u001b[43mcalculate_equities\u001b[49m\u001b[43m(\u001b[49m\n\u001b[0;32m    404\u001b[0m \u001b[43m    \u001b[49m\u001b[43mhole_ranges\u001b[49m\u001b[43m,\u001b[49m\n\u001b[0;32m    405\u001b[0m \u001b[43m    \u001b[49m\u001b[43mboard_cards\u001b[49m\u001b[43m,\u001b[49m\n\u001b[0;32m    406\u001b[0m \u001b[43m    \u001b[49m\u001b[43mhole_dealing_count\u001b[49m\u001b[43m,\u001b[49m\n\u001b[0;32m    407\u001b[0m \u001b[43m    \u001b[49m\u001b[43mboard_dealing_count\u001b[49m\u001b[43m,\u001b[49m\n\u001b[0;32m    408\u001b[0m \u001b[43m    \u001b[49m\u001b[43mdeck\u001b[49m\u001b[43m,\u001b[49m\n\u001b[0;32m    409\u001b[0m \u001b[43m    \u001b[49m\u001b[43mhand_types\u001b[49m\u001b[43m,\u001b[49m\n\u001b[0;32m    410\u001b[0m \u001b[43m    \u001b[49m\u001b[43msample_count\u001b[49m\u001b[38;5;241;43m=\u001b[39;49m\u001b[43msample_count\u001b[49m\u001b[43m,\u001b[49m\n\u001b[0;32m    411\u001b[0m \u001b[43m    \u001b[49m\u001b[43mexecutor\u001b[49m\u001b[38;5;241;43m=\u001b[39;49m\u001b[43mexecutor\u001b[49m\u001b[43m,\u001b[49m\n\u001b[0;32m    412\u001b[0m \u001b[43m\u001b[49m\u001b[43m)\u001b[49m\n\u001b[0;32m    414\u001b[0m \u001b[38;5;28;01mreturn\u001b[39;00m equities[\u001b[38;5;241m-\u001b[39m\u001b[38;5;241m1\u001b[39m]\n",
      "File \u001b[1;32mc:\\Users\\holcombea\\AppData\\Local\\Programs\\Python\\Python311\\Lib\\site-packages\\pokerkit\\analysis.py:324\u001b[0m, in \u001b[0;36mcalculate_equities\u001b[1;34m(hole_ranges, board_cards, hole_dealing_count, board_dealing_count, deck, hand_types, sample_count, executor)\u001b[0m\n\u001b[0;32m    321\u001b[0m indices \u001b[38;5;241m=\u001b[39m choices(\u001b[38;5;28mrange\u001b[39m(\u001b[38;5;28mlen\u001b[39m(hole_cards)), k\u001b[38;5;241m=\u001b[39msample_count)\n\u001b[0;32m    322\u001b[0m equities \u001b[38;5;241m=\u001b[39m [\u001b[38;5;241m0.0\u001b[39m] \u001b[38;5;241m*\u001b[39m \u001b[38;5;28mlen\u001b[39m(hole_ranges)\n\u001b[1;32m--> 324\u001b[0m \u001b[38;5;28;01mfor\u001b[39;00m i, equity \u001b[38;5;129;01min\u001b[39;00m chain\u001b[38;5;241m.\u001b[39mfrom_iterable(\u001b[38;5;28mmap\u001b[39m(\u001b[38;5;28menumerate\u001b[39m, \u001b[43mmapper\u001b[49m\u001b[43m(\u001b[49m\u001b[43mfn\u001b[49m\u001b[43m,\u001b[49m\u001b[43m \u001b[49m\u001b[43mindices\u001b[49m\u001b[43m)\u001b[49m)):\n\u001b[0;32m    325\u001b[0m     equities[i] \u001b[38;5;241m+\u001b[39m\u001b[38;5;241m=\u001b[39m equity\n\u001b[0;32m    327\u001b[0m \u001b[38;5;28;01mfor\u001b[39;00m i, equity \u001b[38;5;129;01min\u001b[39;00m \u001b[38;5;28menumerate\u001b[39m(equities):\n",
      "File \u001b[1;32mc:\\Users\\holcombea\\AppData\\Local\\Programs\\Python\\Python311\\Lib\\concurrent\\futures\\process.py:820\u001b[0m, in \u001b[0;36mProcessPoolExecutor.map\u001b[1;34m(self, fn, timeout, chunksize, *iterables)\u001b[0m\n\u001b[0;32m    817\u001b[0m \u001b[38;5;28;01mif\u001b[39;00m chunksize \u001b[38;5;241m<\u001b[39m \u001b[38;5;241m1\u001b[39m:\n\u001b[0;32m    818\u001b[0m     \u001b[38;5;28;01mraise\u001b[39;00m \u001b[38;5;167;01mValueError\u001b[39;00m(\u001b[38;5;124m\"\u001b[39m\u001b[38;5;124mchunksize must be >= 1.\u001b[39m\u001b[38;5;124m\"\u001b[39m)\n\u001b[1;32m--> 820\u001b[0m results \u001b[38;5;241m=\u001b[39m \u001b[38;5;28;43msuper\u001b[39;49m\u001b[43m(\u001b[49m\u001b[43m)\u001b[49m\u001b[38;5;241;43m.\u001b[39;49m\u001b[43mmap\u001b[49m\u001b[43m(\u001b[49m\u001b[43mpartial\u001b[49m\u001b[43m(\u001b[49m\u001b[43m_process_chunk\u001b[49m\u001b[43m,\u001b[49m\u001b[43m \u001b[49m\u001b[43mfn\u001b[49m\u001b[43m)\u001b[49m\u001b[43m,\u001b[49m\n\u001b[0;32m    821\u001b[0m \u001b[43m                      \u001b[49m\u001b[43m_get_chunks\u001b[49m\u001b[43m(\u001b[49m\u001b[38;5;241;43m*\u001b[39;49m\u001b[43miterables\u001b[49m\u001b[43m,\u001b[49m\u001b[43m \u001b[49m\u001b[43mchunksize\u001b[49m\u001b[38;5;241;43m=\u001b[39;49m\u001b[43mchunksize\u001b[49m\u001b[43m)\u001b[49m\u001b[43m,\u001b[49m\n\u001b[0;32m    822\u001b[0m \u001b[43m                      \u001b[49m\u001b[43mtimeout\u001b[49m\u001b[38;5;241;43m=\u001b[39;49m\u001b[43mtimeout\u001b[49m\u001b[43m)\u001b[49m\n\u001b[0;32m    823\u001b[0m \u001b[38;5;28;01mreturn\u001b[39;00m _chain_from_iterable_of_lists(results)\n",
      "File \u001b[1;32mc:\\Users\\holcombea\\AppData\\Local\\Programs\\Python\\Python311\\Lib\\concurrent\\futures\\_base.py:608\u001b[0m, in \u001b[0;36mExecutor.map\u001b[1;34m(self, fn, timeout, chunksize, *iterables)\u001b[0m\n\u001b[0;32m    605\u001b[0m \u001b[38;5;28;01mif\u001b[39;00m timeout \u001b[38;5;129;01mis\u001b[39;00m \u001b[38;5;129;01mnot\u001b[39;00m \u001b[38;5;28;01mNone\u001b[39;00m:\n\u001b[0;32m    606\u001b[0m     end_time \u001b[38;5;241m=\u001b[39m timeout \u001b[38;5;241m+\u001b[39m time\u001b[38;5;241m.\u001b[39mmonotonic()\n\u001b[1;32m--> 608\u001b[0m fs \u001b[38;5;241m=\u001b[39m \u001b[43m[\u001b[49m\u001b[38;5;28;43mself\u001b[39;49m\u001b[38;5;241;43m.\u001b[39;49m\u001b[43msubmit\u001b[49m\u001b[43m(\u001b[49m\u001b[43mfn\u001b[49m\u001b[43m,\u001b[49m\u001b[43m \u001b[49m\u001b[38;5;241;43m*\u001b[39;49m\u001b[43margs\u001b[49m\u001b[43m)\u001b[49m\u001b[43m \u001b[49m\u001b[38;5;28;43;01mfor\u001b[39;49;00m\u001b[43m \u001b[49m\u001b[43margs\u001b[49m\u001b[43m \u001b[49m\u001b[38;5;129;43;01min\u001b[39;49;00m\u001b[43m \u001b[49m\u001b[38;5;28;43mzip\u001b[39;49m\u001b[43m(\u001b[49m\u001b[38;5;241;43m*\u001b[39;49m\u001b[43miterables\u001b[49m\u001b[43m)\u001b[49m\u001b[43m]\u001b[49m\n\u001b[0;32m    610\u001b[0m \u001b[38;5;66;03m# Yield must be hidden in closure so that the futures are submitted\u001b[39;00m\n\u001b[0;32m    611\u001b[0m \u001b[38;5;66;03m# before the first iterator value is required.\u001b[39;00m\n\u001b[0;32m    612\u001b[0m \u001b[38;5;28;01mdef\u001b[39;00m \u001b[38;5;21mresult_iterator\u001b[39m():\n",
      "File \u001b[1;32mc:\\Users\\holcombea\\AppData\\Local\\Programs\\Python\\Python311\\Lib\\concurrent\\futures\\_base.py:608\u001b[0m, in \u001b[0;36m<listcomp>\u001b[1;34m(.0)\u001b[0m\n\u001b[0;32m    605\u001b[0m \u001b[38;5;28;01mif\u001b[39;00m timeout \u001b[38;5;129;01mis\u001b[39;00m \u001b[38;5;129;01mnot\u001b[39;00m \u001b[38;5;28;01mNone\u001b[39;00m:\n\u001b[0;32m    606\u001b[0m     end_time \u001b[38;5;241m=\u001b[39m timeout \u001b[38;5;241m+\u001b[39m time\u001b[38;5;241m.\u001b[39mmonotonic()\n\u001b[1;32m--> 608\u001b[0m fs \u001b[38;5;241m=\u001b[39m [\u001b[38;5;28;43mself\u001b[39;49m\u001b[38;5;241;43m.\u001b[39;49m\u001b[43msubmit\u001b[49m\u001b[43m(\u001b[49m\u001b[43mfn\u001b[49m\u001b[43m,\u001b[49m\u001b[43m \u001b[49m\u001b[38;5;241;43m*\u001b[39;49m\u001b[43margs\u001b[49m\u001b[43m)\u001b[49m \u001b[38;5;28;01mfor\u001b[39;00m args \u001b[38;5;129;01min\u001b[39;00m \u001b[38;5;28mzip\u001b[39m(\u001b[38;5;241m*\u001b[39miterables)]\n\u001b[0;32m    610\u001b[0m \u001b[38;5;66;03m# Yield must be hidden in closure so that the futures are submitted\u001b[39;00m\n\u001b[0;32m    611\u001b[0m \u001b[38;5;66;03m# before the first iterator value is required.\u001b[39;00m\n\u001b[0;32m    612\u001b[0m \u001b[38;5;28;01mdef\u001b[39;00m \u001b[38;5;21mresult_iterator\u001b[39m():\n",
      "File \u001b[1;32mc:\\Users\\holcombea\\AppData\\Local\\Programs\\Python\\Python311\\Lib\\concurrent\\futures\\process.py:788\u001b[0m, in \u001b[0;36mProcessPoolExecutor.submit\u001b[1;34m(self, fn, *args, **kwargs)\u001b[0m\n\u001b[0;32m    786\u001b[0m \u001b[38;5;28mself\u001b[39m\u001b[38;5;241m.\u001b[39m_queue_count \u001b[38;5;241m+\u001b[39m\u001b[38;5;241m=\u001b[39m \u001b[38;5;241m1\u001b[39m\n\u001b[0;32m    787\u001b[0m \u001b[38;5;66;03m# Wake up queue management thread\u001b[39;00m\n\u001b[1;32m--> 788\u001b[0m \u001b[38;5;28;43mself\u001b[39;49m\u001b[38;5;241;43m.\u001b[39;49m\u001b[43m_executor_manager_thread_wakeup\u001b[49m\u001b[38;5;241;43m.\u001b[39;49m\u001b[43mwakeup\u001b[49m\u001b[43m(\u001b[49m\u001b[43m)\u001b[49m\n\u001b[0;32m    790\u001b[0m \u001b[38;5;28;01mif\u001b[39;00m \u001b[38;5;28mself\u001b[39m\u001b[38;5;241m.\u001b[39m_safe_to_dynamically_spawn_children:\n\u001b[0;32m    791\u001b[0m     \u001b[38;5;28mself\u001b[39m\u001b[38;5;241m.\u001b[39m_adjust_process_count()\n",
      "File \u001b[1;32mc:\\Users\\holcombea\\AppData\\Local\\Programs\\Python\\Python311\\Lib\\concurrent\\futures\\process.py:79\u001b[0m, in \u001b[0;36m_ThreadWakeup.wakeup\u001b[1;34m(self)\u001b[0m\n\u001b[0;32m     77\u001b[0m \u001b[38;5;28;01mdef\u001b[39;00m \u001b[38;5;21mwakeup\u001b[39m(\u001b[38;5;28mself\u001b[39m):\n\u001b[0;32m     78\u001b[0m     \u001b[38;5;28;01mif\u001b[39;00m \u001b[38;5;129;01mnot\u001b[39;00m \u001b[38;5;28mself\u001b[39m\u001b[38;5;241m.\u001b[39m_closed:\n\u001b[1;32m---> 79\u001b[0m         \u001b[38;5;28;43mself\u001b[39;49m\u001b[38;5;241;43m.\u001b[39;49m\u001b[43m_writer\u001b[49m\u001b[38;5;241;43m.\u001b[39;49m\u001b[43msend_bytes\u001b[49m\u001b[43m(\u001b[49m\u001b[38;5;124;43mb\u001b[39;49m\u001b[38;5;124;43m\"\u001b[39;49m\u001b[38;5;124;43m\"\u001b[39;49m\u001b[43m)\u001b[49m\n",
      "File \u001b[1;32mc:\\Users\\holcombea\\AppData\\Local\\Programs\\Python\\Python311\\Lib\\multiprocessing\\connection.py:199\u001b[0m, in \u001b[0;36m_ConnectionBase.send_bytes\u001b[1;34m(self, buf, offset, size)\u001b[0m\n\u001b[0;32m    197\u001b[0m \u001b[38;5;28;01melif\u001b[39;00m offset \u001b[38;5;241m+\u001b[39m size \u001b[38;5;241m>\u001b[39m n:\n\u001b[0;32m    198\u001b[0m     \u001b[38;5;28;01mraise\u001b[39;00m \u001b[38;5;167;01mValueError\u001b[39;00m(\u001b[38;5;124m\"\u001b[39m\u001b[38;5;124mbuffer length < offset + size\u001b[39m\u001b[38;5;124m\"\u001b[39m)\n\u001b[1;32m--> 199\u001b[0m \u001b[38;5;28;43mself\u001b[39;49m\u001b[38;5;241;43m.\u001b[39;49m\u001b[43m_send_bytes\u001b[49m\u001b[43m(\u001b[49m\u001b[43mm\u001b[49m\u001b[43m[\u001b[49m\u001b[43moffset\u001b[49m\u001b[43m:\u001b[49m\u001b[43moffset\u001b[49m\u001b[43m \u001b[49m\u001b[38;5;241;43m+\u001b[39;49m\u001b[43m \u001b[49m\u001b[43msize\u001b[49m\u001b[43m]\u001b[49m\u001b[43m)\u001b[49m\n",
      "File \u001b[1;32mc:\\Users\\holcombea\\AppData\\Local\\Programs\\Python\\Python311\\Lib\\multiprocessing\\connection.py:279\u001b[0m, in \u001b[0;36mPipeConnection._send_bytes\u001b[1;34m(self, buf)\u001b[0m\n\u001b[0;32m    278\u001b[0m \u001b[38;5;28;01mdef\u001b[39;00m \u001b[38;5;21m_send_bytes\u001b[39m(\u001b[38;5;28mself\u001b[39m, buf):\n\u001b[1;32m--> 279\u001b[0m     ov, err \u001b[38;5;241m=\u001b[39m _winapi\u001b[38;5;241m.\u001b[39mWriteFile(\u001b[38;5;28mself\u001b[39m\u001b[38;5;241m.\u001b[39m_handle, buf, overlapped\u001b[38;5;241m=\u001b[39m\u001b[38;5;28;01mTrue\u001b[39;00m)\n\u001b[0;32m    280\u001b[0m     \u001b[38;5;28;01mtry\u001b[39;00m:\n\u001b[0;32m    281\u001b[0m         \u001b[38;5;28;01mif\u001b[39;00m err \u001b[38;5;241m==\u001b[39m _winapi\u001b[38;5;241m.\u001b[39mERROR_IO_PENDING:\n",
      "\u001b[1;31mKeyboardInterrupt\u001b[0m: "
     ]
    }
   ],
   "source": [
    "sample_size = 3_000\n",
    "config = {'monte_carlo_sample_size': sample_size,\n",
    "          'player_0_stack': 200,\n",
    "          'player_1_stack': 200}\n",
    "poker = PokerEnvironment(config)\n",
    "\n",
    "agent_0 = BaseAgent({'A': ['check_or_call']})\n",
    "agent_1 = BaseAgent({'A': ['check_or_call']})\n",
    "strengths = list()\n",
    "for i in tqdm(range(100)):\n",
    "    strengths.append(poker.get_state(1)['hand_strength'])\n",
    "\n",
    "plt.hist(strengths)\n",
    "plt.title(f'Hist of sample size: {sample_size}\\nStandard Deviation: {np.std(strengths)}')\n",
    "plt.show()"
   ]
  },
  {
   "cell_type": "code",
   "execution_count": null,
   "metadata": {},
   "outputs": [],
   "source": [
    "# sample size: 500\n",
    "sample_size = 500\n",
    "config = {'monte_carlo_sample_size': sample_size,\n",
    "          'player_0_stack': 200,\n",
    "          'player_1_stack': 200}\n",
    "poker = PokerEnvironment(config)\n",
    "\n",
    "agent_0 = BaseAgent({'A': ['check_or_call']})\n",
    "agent_1 = BaseAgent({'A': ['check_or_call']})\n",
    "strengths = list()\n",
    "for i in tqdm(range(100)):\n",
    "    strengths.append(poker.get_state(1)['hand_strength'])\n",
    "\n",
    "plt.hist(strengths)\n",
    "plt.title(f'Hist of sample size: {sample_size}')\n",
    "plt.show()\n",
    "\n",
    "print(f'Standard Deviation: {np.std(strengths)}')"
   ]
  },
  {
   "cell_type": "code",
   "execution_count": 38,
   "metadata": {},
   "outputs": [
    {
     "name": "stdout",
     "output_type": "stream",
     "text": [
      "Standard Deviation: 0.022124646889837566\n"
     ]
    }
   ],
   "source": []
  },
  {
   "cell_type": "code",
   "execution_count": null,
   "metadata": {},
   "outputs": [],
   "source": []
  },
  {
   "cell_type": "code",
   "execution_count": 26,
   "metadata": {},
   "outputs": [
    {
     "data": {
      "text/plain": [
       "{'stack': 199,\n",
       " 'pot_size': 3,\n",
       " 'money_to_call': 1,\n",
       " 'hand_strength': 0.534,\n",
       " 'af': -1,\n",
       " 'lh': 0.75,\n",
       " 'hand_state': 0}"
      ]
     },
     "execution_count": 26,
     "metadata": {},
     "output_type": "execute_result"
    }
   ],
   "source": [
    "poker.get_state(1)"
   ]
  },
  {
   "cell_type": "code",
   "execution_count": 61,
   "metadata": {},
   "outputs": [
    {
     "ename": "AttributeError",
     "evalue": "'str' object has no attribute 'rank'",
     "output_type": "error",
     "traceback": [
      "\u001b[1;31m---------------------------------------------------------------------------\u001b[0m",
      "\u001b[1;31mAttributeError\u001b[0m                            Traceback (most recent call last)",
      "Cell \u001b[1;32mIn[61], line 1\u001b[0m\n\u001b[1;32m----> 1\u001b[0m \u001b[43mcalculate_hand_strength\u001b[49m\u001b[43m(\u001b[49m\n\u001b[0;32m      2\u001b[0m \u001b[43m            \u001b[49m\u001b[43mplayer_count\u001b[49m\u001b[38;5;241;43m=\u001b[39;49m\u001b[43m \u001b[49m\u001b[38;5;241;43m2\u001b[39;49m\u001b[43m,\u001b[49m\n\u001b[0;32m      3\u001b[0m \u001b[43m            \u001b[49m\u001b[43mhole_range\u001b[49m\u001b[43m \u001b[49m\u001b[38;5;241;43m=\u001b[39;49m\u001b[43m \u001b[49m\u001b[43m[\u001b[49m\u001b[43m[\u001b[49m\u001b[38;5;124;43m'\u001b[39;49m\u001b[38;5;124;43mQs\u001b[39;49m\u001b[38;5;124;43m'\u001b[39;49m\u001b[43m,\u001b[49m\u001b[38;5;124;43m'\u001b[39;49m\u001b[38;5;124;43m2h\u001b[39;49m\u001b[38;5;124;43m'\u001b[39;49m\u001b[43m]\u001b[49m\u001b[43m]\u001b[49m\u001b[43m,\u001b[49m\n\u001b[0;32m      4\u001b[0m \u001b[43m            \u001b[49m\u001b[43mboard_cards\u001b[49m\u001b[43m \u001b[49m\u001b[38;5;241;43m=\u001b[39;49m\u001b[43m \u001b[49m\u001b[43m[\u001b[49m\u001b[43m]\u001b[49m\u001b[43m,\u001b[49m\n\u001b[0;32m      5\u001b[0m \u001b[43m            \u001b[49m\u001b[43mhole_dealing_count\u001b[49m\u001b[38;5;241;43m=\u001b[39;49m\u001b[38;5;241;43m2\u001b[39;49m\u001b[43m,\u001b[49m\n\u001b[0;32m      6\u001b[0m \u001b[43m            \u001b[49m\u001b[43mboard_dealing_count\u001b[49m\u001b[38;5;241;43m=\u001b[39;49m\u001b[38;5;241;43m5\u001b[39;49m\u001b[43m,\u001b[49m\n\u001b[0;32m      7\u001b[0m \u001b[43m            \u001b[49m\u001b[43mdeck\u001b[49m\u001b[38;5;241;43m=\u001b[39;49m\u001b[43mDeck\u001b[49m\u001b[38;5;241;43m.\u001b[39;49m\u001b[43mSTANDARD\u001b[49m\u001b[43m,\u001b[49m\n\u001b[0;32m      8\u001b[0m \u001b[43m            \u001b[49m\u001b[43mhand_types\u001b[49m\u001b[38;5;241;43m=\u001b[39;49m\u001b[43m(\u001b[49m\u001b[43mStandardHighHand\u001b[49m\u001b[43m,\u001b[49m\u001b[43m)\u001b[49m\u001b[43m,\u001b[49m\n\u001b[0;32m      9\u001b[0m \u001b[43m            \u001b[49m\u001b[43msample_count\u001b[49m\u001b[38;5;241;43m=\u001b[39;49m\u001b[38;5;241;43m1000\u001b[39;49m\u001b[43m,\u001b[49m\n\u001b[0;32m     10\u001b[0m \u001b[43m            \u001b[49m\u001b[43mexecutor\u001b[49m\u001b[38;5;241;43m=\u001b[39;49m\u001b[38;5;28;43;01mNone\u001b[39;49;00m\n\u001b[0;32m     11\u001b[0m \u001b[43m        \u001b[49m\u001b[43m)\u001b[49m\n",
      "File \u001b[1;32mc:\\Users\\holcombea\\AppData\\Local\\Programs\\Python\\Python311\\Lib\\site-packages\\pokerkit\\analysis.py:403\u001b[0m, in \u001b[0;36mcalculate_hand_strength\u001b[1;34m(player_count, hole_range, board_cards, hole_dealing_count, board_dealing_count, deck, hand_types, sample_count, executor)\u001b[0m\n\u001b[0;32m    397\u001b[0m hole_ranges: \u001b[38;5;28mlist\u001b[39m[Iterable[Iterable[Card]]] \u001b[38;5;241m=\u001b[39m [\n\u001b[0;32m    398\u001b[0m     [[]] \u001b[38;5;28;01mfor\u001b[39;00m _ \u001b[38;5;129;01min\u001b[39;00m \u001b[38;5;28mrange\u001b[39m(player_count \u001b[38;5;241m-\u001b[39m \u001b[38;5;241m1\u001b[39m)\n\u001b[0;32m    399\u001b[0m ]\n\u001b[0;32m    401\u001b[0m hole_ranges\u001b[38;5;241m.\u001b[39mappend(hole_range)\n\u001b[1;32m--> 403\u001b[0m equities \u001b[38;5;241m=\u001b[39m \u001b[43mcalculate_equities\u001b[49m\u001b[43m(\u001b[49m\n\u001b[0;32m    404\u001b[0m \u001b[43m    \u001b[49m\u001b[43mhole_ranges\u001b[49m\u001b[43m,\u001b[49m\n\u001b[0;32m    405\u001b[0m \u001b[43m    \u001b[49m\u001b[43mboard_cards\u001b[49m\u001b[43m,\u001b[49m\n\u001b[0;32m    406\u001b[0m \u001b[43m    \u001b[49m\u001b[43mhole_dealing_count\u001b[49m\u001b[43m,\u001b[49m\n\u001b[0;32m    407\u001b[0m \u001b[43m    \u001b[49m\u001b[43mboard_dealing_count\u001b[49m\u001b[43m,\u001b[49m\n\u001b[0;32m    408\u001b[0m \u001b[43m    \u001b[49m\u001b[43mdeck\u001b[49m\u001b[43m,\u001b[49m\n\u001b[0;32m    409\u001b[0m \u001b[43m    \u001b[49m\u001b[43mhand_types\u001b[49m\u001b[43m,\u001b[49m\n\u001b[0;32m    410\u001b[0m \u001b[43m    \u001b[49m\u001b[43msample_count\u001b[49m\u001b[38;5;241;43m=\u001b[39;49m\u001b[43msample_count\u001b[49m\u001b[43m,\u001b[49m\n\u001b[0;32m    411\u001b[0m \u001b[43m    \u001b[49m\u001b[43mexecutor\u001b[49m\u001b[38;5;241;43m=\u001b[39;49m\u001b[43mexecutor\u001b[49m\u001b[43m,\u001b[49m\n\u001b[0;32m    412\u001b[0m \u001b[43m\u001b[49m\u001b[43m)\u001b[49m\n\u001b[0;32m    414\u001b[0m \u001b[38;5;28;01mreturn\u001b[39;00m equities[\u001b[38;5;241m-\u001b[39m\u001b[38;5;241m1\u001b[39m]\n",
      "File \u001b[1;32mc:\\Users\\holcombea\\AppData\\Local\\Programs\\Python\\Python311\\Lib\\site-packages\\pokerkit\\analysis.py:324\u001b[0m, in \u001b[0;36mcalculate_equities\u001b[1;34m(hole_ranges, board_cards, hole_dealing_count, board_dealing_count, deck, hand_types, sample_count, executor)\u001b[0m\n\u001b[0;32m    321\u001b[0m indices \u001b[38;5;241m=\u001b[39m choices(\u001b[38;5;28mrange\u001b[39m(\u001b[38;5;28mlen\u001b[39m(hole_cards)), k\u001b[38;5;241m=\u001b[39msample_count)\n\u001b[0;32m    322\u001b[0m equities \u001b[38;5;241m=\u001b[39m [\u001b[38;5;241m0.0\u001b[39m] \u001b[38;5;241m*\u001b[39m \u001b[38;5;28mlen\u001b[39m(hole_ranges)\n\u001b[1;32m--> 324\u001b[0m \u001b[38;5;28;01mfor\u001b[39;00m i, equity \u001b[38;5;129;01min\u001b[39;00m chain\u001b[38;5;241m.\u001b[39mfrom_iterable(\u001b[38;5;28mmap\u001b[39m(\u001b[38;5;28menumerate\u001b[39m, mapper(fn, indices))):\n\u001b[0;32m    325\u001b[0m     equities[i] \u001b[38;5;241m+\u001b[39m\u001b[38;5;241m=\u001b[39m equity\n\u001b[0;32m    327\u001b[0m \u001b[38;5;28;01mfor\u001b[39;00m i, equity \u001b[38;5;129;01min\u001b[39;00m \u001b[38;5;28menumerate\u001b[39m(equities):\n",
      "File \u001b[1;32mc:\\Users\\holcombea\\AppData\\Local\\Programs\\Python\\Python311\\Lib\\site-packages\\pokerkit\\analysis.py:208\u001b[0m, in \u001b[0;36m__calculate_equities_1\u001b[1;34m(hole_cards, board_cards, hole_dealing_count, board_dealing_count, deck_cards, hand_types, index)\u001b[0m\n\u001b[0;32m    199\u001b[0m \u001b[38;5;28;01mdef\u001b[39;00m \u001b[38;5;21m__calculate_equities_1\u001b[39m(\n\u001b[0;32m    200\u001b[0m         hole_cards: \u001b[38;5;28mlist\u001b[39m[\u001b[38;5;28mtuple\u001b[39m[\u001b[38;5;28mlist\u001b[39m[Card], \u001b[38;5;241m.\u001b[39m\u001b[38;5;241m.\u001b[39m\u001b[38;5;241m.\u001b[39m]],\n\u001b[0;32m    201\u001b[0m         board_cards: \u001b[38;5;28mlist\u001b[39m[Card],\n\u001b[1;32m   (...)\u001b[0m\n\u001b[0;32m    206\u001b[0m         index: \u001b[38;5;28mint\u001b[39m,\n\u001b[0;32m    207\u001b[0m ) \u001b[38;5;241m-\u001b[39m\u001b[38;5;241m>\u001b[39m \u001b[38;5;28mlist\u001b[39m[\u001b[38;5;28mfloat\u001b[39m]:\n\u001b[1;32m--> 208\u001b[0m     \u001b[38;5;28;01mreturn\u001b[39;00m \u001b[43m__calculate_equities_0\u001b[49m\u001b[43m(\u001b[49m\n\u001b[0;32m    209\u001b[0m \u001b[43m        \u001b[49m\u001b[43mhole_cards\u001b[49m\u001b[43m[\u001b[49m\u001b[43mindex\u001b[49m\u001b[43m]\u001b[49m\u001b[43m,\u001b[49m\n\u001b[0;32m    210\u001b[0m \u001b[43m        \u001b[49m\u001b[43mboard_cards\u001b[49m\u001b[43m,\u001b[49m\n\u001b[0;32m    211\u001b[0m \u001b[43m        \u001b[49m\u001b[43mhole_dealing_count\u001b[49m\u001b[43m,\u001b[49m\n\u001b[0;32m    212\u001b[0m \u001b[43m        \u001b[49m\u001b[43mboard_dealing_count\u001b[49m\u001b[43m,\u001b[49m\n\u001b[0;32m    213\u001b[0m \u001b[43m        \u001b[49m\u001b[43mdeck_cards\u001b[49m\u001b[43m[\u001b[49m\u001b[43mindex\u001b[49m\u001b[43m]\u001b[49m\u001b[43m,\u001b[49m\n\u001b[0;32m    214\u001b[0m \u001b[43m        \u001b[49m\u001b[43mhand_types\u001b[49m\u001b[43m,\u001b[49m\n\u001b[0;32m    215\u001b[0m \u001b[43m    \u001b[49m\u001b[43m)\u001b[49m\n",
      "File \u001b[1;32mc:\\Users\\holcombea\\AppData\\Local\\Programs\\Python\\Python311\\Lib\\site-packages\\pokerkit\\analysis.py:182\u001b[0m, in \u001b[0;36m__calculate_equities_0\u001b[1;34m(hole_cards, board_cards, hole_dealing_count, board_dealing_count, deck_cards, hand_types)\u001b[0m\n\u001b[0;32m    179\u001b[0m equities \u001b[38;5;241m=\u001b[39m [\u001b[38;5;241m0.0\u001b[39m] \u001b[38;5;241m*\u001b[39m \u001b[38;5;28mlen\u001b[39m(hole_cards)\n\u001b[0;32m    181\u001b[0m \u001b[38;5;28;01mfor\u001b[39;00m hand_type \u001b[38;5;129;01min\u001b[39;00m hand_types:\n\u001b[1;32m--> 182\u001b[0m     hands \u001b[38;5;241m=\u001b[39m \u001b[38;5;28mlist\u001b[39m(\n\u001b[0;32m    183\u001b[0m         \u001b[38;5;28mmap\u001b[39m(\n\u001b[0;32m    184\u001b[0m             partial(hand_type\u001b[38;5;241m.\u001b[39mfrom_game, board_cards\u001b[38;5;241m=\u001b[39mboard_cards),\n\u001b[0;32m    185\u001b[0m             hole_cards,\n\u001b[0;32m    186\u001b[0m         ),\n\u001b[0;32m    187\u001b[0m     )\n\u001b[0;32m    188\u001b[0m     max_hand \u001b[38;5;241m=\u001b[39m max_or_none(hands)\n\u001b[0;32m    189\u001b[0m     statuses \u001b[38;5;241m=\u001b[39m \u001b[38;5;28mlist\u001b[39m(\u001b[38;5;28mmap\u001b[39m(partial(eq, max_hand), hands))\n",
      "File \u001b[1;32mc:\\Users\\holcombea\\AppData\\Local\\Programs\\Python\\Python311\\Lib\\site-packages\\pokerkit\\hands.py:226\u001b[0m, in \u001b[0;36mCombinationHand.from_game\u001b[1;34m(cls, hole_cards, board_cards)\u001b[0m\n\u001b[0;32m    221\u001b[0m \u001b[38;5;28;01mfor\u001b[39;00m combination \u001b[38;5;129;01min\u001b[39;00m combinations(\n\u001b[0;32m    222\u001b[0m         chain(Card\u001b[38;5;241m.\u001b[39mclean(hole_cards), Card\u001b[38;5;241m.\u001b[39mclean(board_cards)),\n\u001b[0;32m    223\u001b[0m         \u001b[38;5;28mcls\u001b[39m\u001b[38;5;241m.\u001b[39mcard_count,\n\u001b[0;32m    224\u001b[0m ):\n\u001b[0;32m    225\u001b[0m     \u001b[38;5;28;01mtry\u001b[39;00m:\n\u001b[1;32m--> 226\u001b[0m         hand \u001b[38;5;241m=\u001b[39m \u001b[38;5;28;43mcls\u001b[39;49m\u001b[43m(\u001b[49m\u001b[43mcombination\u001b[49m\u001b[43m)\u001b[49m\n\u001b[0;32m    227\u001b[0m     \u001b[38;5;28;01mexcept\u001b[39;00m \u001b[38;5;167;01mValueError\u001b[39;00m:\n\u001b[0;32m    228\u001b[0m         \u001b[38;5;28;01mpass\u001b[39;00m\n",
      "File \u001b[1;32mc:\\Users\\holcombea\\AppData\\Local\\Programs\\Python\\Python311\\Lib\\site-packages\\pokerkit\\hands.py:90\u001b[0m, in \u001b[0;36mHand.__init__\u001b[1;34m(self, cards)\u001b[0m\n\u001b[0;32m     87\u001b[0m \u001b[38;5;28;01mdef\u001b[39;00m \u001b[38;5;21m__init__\u001b[39m(\u001b[38;5;28mself\u001b[39m, cards: CardsLike) \u001b[38;5;241m-\u001b[39m\u001b[38;5;241m>\u001b[39m \u001b[38;5;28;01mNone\u001b[39;00m:\n\u001b[0;32m     88\u001b[0m     \u001b[38;5;28mself\u001b[39m\u001b[38;5;241m.\u001b[39m__cards \u001b[38;5;241m=\u001b[39m Card\u001b[38;5;241m.\u001b[39mclean(cards)\n\u001b[1;32m---> 90\u001b[0m     \u001b[38;5;28;01mif\u001b[39;00m \u001b[38;5;129;01mnot\u001b[39;00m \u001b[38;5;28;43mself\u001b[39;49m\u001b[38;5;241;43m.\u001b[39;49m\u001b[43mlookup\u001b[49m\u001b[38;5;241;43m.\u001b[39;49m\u001b[43mhas_entry\u001b[49m\u001b[43m(\u001b[49m\u001b[38;5;28;43mself\u001b[39;49m\u001b[38;5;241;43m.\u001b[39;49m\u001b[43mcards\u001b[49m\u001b[43m)\u001b[49m:\n\u001b[0;32m     91\u001b[0m         \u001b[38;5;28;01mraise\u001b[39;00m \u001b[38;5;167;01mValueError\u001b[39;00m(\n\u001b[0;32m     92\u001b[0m             (\n\u001b[0;32m     93\u001b[0m                 \u001b[38;5;124mf\u001b[39m\u001b[38;5;124m'\u001b[39m\u001b[38;5;124mThe cards \u001b[39m\u001b[38;5;132;01m{\u001b[39;00m\u001b[38;5;28mrepr\u001b[39m(cards)\u001b[38;5;132;01m}\u001b[39;00m\u001b[38;5;124m form an invalid\u001b[39m\u001b[38;5;124m'\u001b[39m\n\u001b[0;32m     94\u001b[0m                 \u001b[38;5;124mf\u001b[39m\u001b[38;5;124m'\u001b[39m\u001b[38;5;124m \u001b[39m\u001b[38;5;132;01m{\u001b[39;00m\u001b[38;5;28mtype\u001b[39m(\u001b[38;5;28mself\u001b[39m)\u001b[38;5;241m.\u001b[39m\u001b[38;5;18m__qualname__\u001b[39m\u001b[38;5;132;01m}\u001b[39;00m\u001b[38;5;124m hand.\u001b[39m\u001b[38;5;124m'\u001b[39m\n\u001b[0;32m     95\u001b[0m             ),\n\u001b[0;32m     96\u001b[0m         )\n",
      "File \u001b[1;32mc:\\Users\\holcombea\\AppData\\Local\\Programs\\Python\\Python311\\Lib\\site-packages\\pokerkit\\lookups.py:193\u001b[0m, in \u001b[0;36mLookup.has_entry\u001b[1;34m(self, cards)\u001b[0m\n\u001b[0;32m    177\u001b[0m \u001b[38;5;250m\u001b[39m\u001b[38;5;124;03m\"\"\"Return whether the cards can be looked up.\u001b[39;00m\n\u001b[0;32m    178\u001b[0m \n\u001b[0;32m    179\u001b[0m \u001b[38;5;124;03mThe cards can be looked up if the lookup contains an entry with\u001b[39;00m\n\u001b[1;32m   (...)\u001b[0m\n\u001b[0;32m    190\u001b[0m \u001b[38;5;124;03m         ``False``.\u001b[39;00m\n\u001b[0;32m    191\u001b[0m \u001b[38;5;124;03m\"\"\"\u001b[39;00m\n\u001b[0;32m    192\u001b[0m \u001b[38;5;28;01mtry\u001b[39;00m:\n\u001b[1;32m--> 193\u001b[0m     key \u001b[38;5;241m=\u001b[39m \u001b[38;5;28;43mself\u001b[39;49m\u001b[38;5;241;43m.\u001b[39;49m\u001b[43m_get_key\u001b[49m\u001b[43m(\u001b[49m\u001b[43mcards\u001b[49m\u001b[43m)\u001b[49m\n\u001b[0;32m    194\u001b[0m \u001b[38;5;28;01mexcept\u001b[39;00m \u001b[38;5;167;01mValueError\u001b[39;00m:\n\u001b[0;32m    195\u001b[0m     key \u001b[38;5;241m=\u001b[39m \u001b[38;5;28;01mNone\u001b[39;00m\n",
      "File \u001b[1;32mc:\\Users\\holcombea\\AppData\\Local\\Programs\\Python\\Python311\\Lib\\site-packages\\pokerkit\\lookups.py:244\u001b[0m, in \u001b[0;36mLookup._get_key\u001b[1;34m(self, cards)\u001b[0m\n\u001b[0;32m    242\u001b[0m \u001b[38;5;28;01mdef\u001b[39;00m \u001b[38;5;21m_get_key\u001b[39m(\u001b[38;5;28mself\u001b[39m, cards: CardsLike) \u001b[38;5;241m-\u001b[39m\u001b[38;5;241m>\u001b[39m \u001b[38;5;28mtuple\u001b[39m[\u001b[38;5;28mint\u001b[39m, \u001b[38;5;28mbool\u001b[39m]:\n\u001b[0;32m    243\u001b[0m     cards \u001b[38;5;241m=\u001b[39m Card\u001b[38;5;241m.\u001b[39mclean(cards)\n\u001b[1;32m--> 244\u001b[0m     hash_ \u001b[38;5;241m=\u001b[39m \u001b[38;5;28;43mself\u001b[39;49m\u001b[38;5;241;43m.\u001b[39;49m\u001b[43m__hash\u001b[49m\u001b[43m(\u001b[49m\u001b[43mCard\u001b[49m\u001b[38;5;241;43m.\u001b[39;49m\u001b[43mget_ranks\u001b[49m\u001b[43m(\u001b[49m\u001b[43mcards\u001b[49m\u001b[43m)\u001b[49m\u001b[43m)\u001b[49m\n\u001b[0;32m    245\u001b[0m     suitedness \u001b[38;5;241m=\u001b[39m Card\u001b[38;5;241m.\u001b[39mare_suited(cards)\n\u001b[0;32m    247\u001b[0m     \u001b[38;5;28;01mreturn\u001b[39;00m hash_, suitedness\n",
      "File \u001b[1;32mc:\\Users\\holcombea\\AppData\\Local\\Programs\\Python\\Python311\\Lib\\site-packages\\pokerkit\\lookups.py:125\u001b[0m, in \u001b[0;36mLookup.__hash\u001b[1;34m(cls, ranks)\u001b[0m\n\u001b[0;32m    123\u001b[0m \u001b[38;5;129m@classmethod\u001b[39m\n\u001b[0;32m    124\u001b[0m \u001b[38;5;28;01mdef\u001b[39;00m \u001b[38;5;21m__hash\u001b[39m(\u001b[38;5;28mcls\u001b[39m, ranks: Iterable[Rank]) \u001b[38;5;241m-\u001b[39m\u001b[38;5;241m>\u001b[39m \u001b[38;5;28mint\u001b[39m:\n\u001b[1;32m--> 125\u001b[0m     \u001b[38;5;28;01mreturn\u001b[39;00m prod(\u001b[38;5;28mmap\u001b[39m(\u001b[38;5;28mcls\u001b[39m\u001b[38;5;241m.\u001b[39m__multipliers\u001b[38;5;241m.\u001b[39m\u001b[38;5;21m__getitem__\u001b[39m, ranks))\n",
      "File \u001b[1;32mc:\\Users\\holcombea\\AppData\\Local\\Programs\\Python\\Python311\\Lib\\site-packages\\pokerkit\\utilities.py:262\u001b[0m, in \u001b[0;36mCard.get_ranks\u001b[1;34m(cls, cards)\u001b[0m\n\u001b[0;32m    251\u001b[0m \u001b[38;5;250m\u001b[39m\u001b[38;5;124;03m\"\"\"Return an iterator of the ranks of each card.\u001b[39;00m\n\u001b[0;32m    252\u001b[0m \n\u001b[0;32m    253\u001b[0m \u001b[38;5;124;03m>>> Card.get_ranks('2sKh')  # doctest: +ELLIPSIS\u001b[39;00m\n\u001b[1;32m   (...)\u001b[0m\n\u001b[0;32m    259\u001b[0m \u001b[38;5;124;03m:return: The iterator of the ranks of each card.\u001b[39;00m\n\u001b[0;32m    260\u001b[0m \u001b[38;5;124;03m\"\"\"\u001b[39;00m\n\u001b[0;32m    261\u001b[0m \u001b[38;5;28;01mfor\u001b[39;00m card \u001b[38;5;129;01min\u001b[39;00m \u001b[38;5;28mcls\u001b[39m\u001b[38;5;241m.\u001b[39mclean(cards):\n\u001b[1;32m--> 262\u001b[0m     \u001b[38;5;28;01myield\u001b[39;00m \u001b[43mcard\u001b[49m\u001b[38;5;241;43m.\u001b[39;49m\u001b[43mrank\u001b[49m\n",
      "\u001b[1;31mAttributeError\u001b[0m: 'str' object has no attribute 'rank'"
     ]
    }
   ],
   "source": [
    "calculate_hand_strength(\n",
    "            player_count= 2,\n",
    "            hole_range = [['Qs','2h']],\n",
    "            board_cards = [],\n",
    "            hole_dealing_count=2,\n",
    "            board_dealing_count=5,\n",
    "            deck=Deck.STANDARD,\n",
    "            hand_types=(StandardHighHand,),\n",
    "            sample_count=1000,\n",
    "            executor=None\n",
    "        )"
   ]
  },
  {
   "cell_type": "code",
   "execution_count": 167,
   "metadata": {},
   "outputs": [],
   "source": [
    "state = NoLimitTexasHoldem.create_state(\n",
    "    (\n",
    "        Automation.ANTE_POSTING,\n",
    "        Automation.BET_COLLECTION,\n",
    "        Automation.BLIND_OR_STRADDLE_POSTING,\n",
    "        Automation.HOLE_CARDS_SHOWING_OR_MUCKING,\n",
    "        Automation.HAND_KILLING,\n",
    "        Automation.CHIPS_PUSHING,\n",
    "        Automation.CHIPS_PULLING\n",
    "    ),\n",
    "    True,\n",
    "    0,\n",
    "    (1,2),\n",
    "    2,\n",
    "    200,\n",
    "    2,\n",
    "    mode=Mode.CASH_GAME,\n",
    ")"
   ]
  },
  {
   "cell_type": "markdown",
   "metadata": {},
   "source": [
    "### First Round of Betting"
   ]
  },
  {
   "cell_type": "code",
   "execution_count": 126,
   "metadata": {},
   "outputs": [
    {
     "data": {
      "text/plain": [
       "0"
      ]
     },
     "execution_count": 126,
     "metadata": {},
     "output_type": "execute_result"
    }
   ],
   "source": [
    "len(state.board_cards)"
   ]
  },
  {
   "cell_type": "code",
   "execution_count": 168,
   "metadata": {},
   "outputs": [
    {
     "name": "stdout",
     "output_type": "stream",
     "text": [
      "HoleDealing(commentary=None, player_index=0, cards=(Kh,), statuses=(False,))\n",
      "HoleDealing(commentary=None, player_index=1, cards=(6d,), statuses=(False,))\n",
      "HoleDealing(commentary=None, player_index=0, cards=(9d,), statuses=(False,))\n",
      "HoleDealing(commentary=None, player_index=1, cards=(Ah,), statuses=(False,))\n"
     ]
    }
   ],
   "source": [
    "print(state.deal_hole())\n",
    "print(state.deal_hole())\n",
    "print(state.deal_hole())\n",
    "print(state.deal_hole())"
   ]
  },
  {
   "cell_type": "code",
   "execution_count": 169,
   "metadata": {},
   "outputs": [
    {
     "name": "stdout",
     "output_type": "stream",
     "text": [
      "CheckingOrCalling(commentary=None, player_index=1, amount=1)\n",
      "CheckingOrCalling(commentary=None, player_index=0, amount=0)\n"
     ]
    }
   ],
   "source": [
    "print(state.check_or_call())\n",
    "print(state.check_or_call())"
   ]
  },
  {
   "cell_type": "markdown",
   "metadata": {},
   "source": [
    "### Flop"
   ]
  },
  {
   "cell_type": "code",
   "execution_count": 170,
   "metadata": {},
   "outputs": [
    {
     "name": "stdout",
     "output_type": "stream",
     "text": [
      "CardBurning(commentary=None, card=Ad)\n"
     ]
    }
   ],
   "source": [
    "print(state.burn_card())"
   ]
  },
  {
   "cell_type": "code",
   "execution_count": 171,
   "metadata": {},
   "outputs": [
    {
     "data": {
      "text/plain": [
       "Street(card_burning_status=True, hole_dealing_statuses=(), board_dealing_count=3, draw_status=False, opening=<Opening.POSITION: 'Position'>, min_completion_betting_or_raising_amount=2, max_completion_betting_or_raising_count=None)"
      ]
     },
     "execution_count": 171,
     "metadata": {},
     "output_type": "execute_result"
    }
   ],
   "source": [
    "state.street"
   ]
  },
  {
   "cell_type": "code",
   "execution_count": 172,
   "metadata": {},
   "outputs": [
    {
     "name": "stdout",
     "output_type": "stream",
     "text": [
      "BoardDealing(commentary=None, cards=(5c, Qd, 4s))\n"
     ]
    }
   ],
   "source": [
    "print(state.deal_board())"
   ]
  },
  {
   "cell_type": "code",
   "execution_count": 144,
   "metadata": {},
   "outputs": [
    {
     "data": {
      "text/plain": [
       "CompletionBettingOrRaisingTo(commentary=None, player_index=0, amount=198)"
      ]
     },
     "execution_count": 144,
     "metadata": {},
     "output_type": "execute_result"
    }
   ],
   "source": [
    "#state.complete_bet_or_raise_to(198)"
   ]
  },
  {
   "cell_type": "code",
   "execution_count": 174,
   "metadata": {},
   "outputs": [
    {
     "data": {
      "text/plain": [
       "CheckingOrCalling(commentary=None, player_index=1, amount=0)"
      ]
     },
     "execution_count": 174,
     "metadata": {},
     "output_type": "execute_result"
    }
   ],
   "source": [
    "state.check_or_call()"
   ]
  },
  {
   "cell_type": "code",
   "execution_count": 175,
   "metadata": {},
   "outputs": [
    {
     "data": {
      "text/plain": [
       "[4]"
      ]
     },
     "execution_count": 175,
     "metadata": {},
     "output_type": "execute_result"
    }
   ],
   "source": [
    "list(state.pot_amounts)"
   ]
  },
  {
   "cell_type": "code",
   "execution_count": 176,
   "metadata": {},
   "outputs": [
    {
     "data": {
      "text/plain": [
       "True"
      ]
     },
     "execution_count": 176,
     "metadata": {},
     "output_type": "execute_result"
    }
   ],
   "source": [
    "state.can_burn_card()"
   ]
  },
  {
   "cell_type": "code",
   "execution_count": 177,
   "metadata": {},
   "outputs": [
    {
     "data": {
      "text/plain": [
       "BoardDealing(commentary=None, cards=(Ks,))"
      ]
     },
     "execution_count": 177,
     "metadata": {},
     "output_type": "execute_result"
    }
   ],
   "source": [
    "state.burn_card()\n",
    "state.deal_board()"
   ]
  },
  {
   "cell_type": "code",
   "execution_count": 178,
   "metadata": {},
   "outputs": [
    {
     "data": {
      "text/plain": [
       "[198, 198]"
      ]
     },
     "execution_count": 178,
     "metadata": {},
     "output_type": "execute_result"
    }
   ],
   "source": [
    "state.stacks"
   ]
  },
  {
   "cell_type": "code",
   "execution_count": 179,
   "metadata": {},
   "outputs": [
    {
     "data": {
      "text/plain": [
       "False"
      ]
     },
     "execution_count": 179,
     "metadata": {},
     "output_type": "execute_result"
    }
   ],
   "source": [
    "state.can_burn_card()"
   ]
  },
  {
   "cell_type": "code",
   "execution_count": 180,
   "metadata": {},
   "outputs": [
    {
     "data": {
      "text/plain": [
       "False"
      ]
     },
     "execution_count": 180,
     "metadata": {},
     "output_type": "execute_result"
    }
   ],
   "source": [
    "state.can_deal_board()"
   ]
  },
  {
   "cell_type": "code",
   "execution_count": 181,
   "metadata": {},
   "outputs": [],
   "source": [
    "output = state.complete_bet_or_raise_to(5)"
   ]
  },
  {
   "cell_type": "code",
   "execution_count": 182,
   "metadata": {},
   "outputs": [
    {
     "data": {
      "text/plain": [
       "True"
      ]
     },
     "execution_count": 182,
     "metadata": {},
     "output_type": "execute_result"
    }
   ],
   "source": [
    "state.can_fold()"
   ]
  },
  {
   "cell_type": "code",
   "execution_count": 183,
   "metadata": {},
   "outputs": [
    {
     "data": {
      "text/plain": [
       "[[5c], [Qd], [4s], [Ks]]"
      ]
     },
     "execution_count": 183,
     "metadata": {},
     "output_type": "execute_result"
    }
   ],
   "source": [
    "state.board_cards"
   ]
  },
  {
   "cell_type": "code",
   "execution_count": 184,
   "metadata": {},
   "outputs": [
    {
     "data": {
      "text/plain": [
       "CheckingOrCalling(commentary=None, player_index=1, amount=5)"
      ]
     },
     "execution_count": 184,
     "metadata": {},
     "output_type": "execute_result"
    }
   ],
   "source": [
    "state.check_or_call()"
   ]
  },
  {
   "cell_type": "code",
   "execution_count": 185,
   "metadata": {},
   "outputs": [],
   "source": [
    "state.showdown_index"
   ]
  },
  {
   "cell_type": "code",
   "execution_count": 186,
   "metadata": {},
   "outputs": [
    {
     "data": {
      "text/plain": [
       "Street(card_burning_status=True, hole_dealing_statuses=(), board_dealing_count=1, draw_status=False, opening=<Opening.POSITION: 'Position'>, min_completion_betting_or_raising_amount=2, max_completion_betting_or_raising_count=None)"
      ]
     },
     "execution_count": 186,
     "metadata": {},
     "output_type": "execute_result"
    }
   ],
   "source": [
    "state.street"
   ]
  },
  {
   "cell_type": "code",
   "execution_count": 187,
   "metadata": {},
   "outputs": [
    {
     "data": {
      "text/plain": [
       "4"
      ]
     },
     "execution_count": 187,
     "metadata": {},
     "output_type": "execute_result"
    }
   ],
   "source": [
    "len(state.board_cards)"
   ]
  },
  {
   "cell_type": "code",
   "execution_count": 188,
   "metadata": {},
   "outputs": [
    {
     "data": {
      "text/plain": [
       "BoardDealing(commentary=None, cards=(3h,))"
      ]
     },
     "execution_count": 188,
     "metadata": {},
     "output_type": "execute_result"
    }
   ],
   "source": [
    "state.burn_card()\n",
    "state.deal_board()"
   ]
  },
  {
   "cell_type": "code",
   "execution_count": 189,
   "metadata": {},
   "outputs": [
    {
     "name": "stdout",
     "output_type": "stream",
     "text": [
      "CheckingOrCalling(commentary=None, player_index=0, amount=0)\n",
      "CheckingOrCalling(commentary=None, player_index=1, amount=0)\n"
     ]
    }
   ],
   "source": [
    "print(state.check_or_call())\n",
    "print(state.check_or_call())"
   ]
  },
  {
   "cell_type": "code",
   "execution_count": 193,
   "metadata": {},
   "outputs": [
    {
     "data": {
      "text/plain": [
       "[True, False]"
      ]
     },
     "execution_count": 193,
     "metadata": {},
     "output_type": "execute_result"
    }
   ],
   "source": [
    "state.statuses"
   ]
  },
  {
   "cell_type": "code",
   "execution_count": 192,
   "metadata": {},
   "outputs": [
    {
     "data": {
      "text/plain": [
       "State(automations=(<Automation.ANTE_POSTING: 'Ante posting'>, <Automation.BET_COLLECTION: 'Bet collection'>, <Automation.BLIND_OR_STRADDLE_POSTING: 'Blind or straddle posting'>, <Automation.HOLE_CARDS_SHOWING_OR_MUCKING: 'Hole cards showing or mucking'>, <Automation.HAND_KILLING: 'Hand killing'>, <Automation.CHIPS_PUSHING: 'Chips pushing'>, <Automation.CHIPS_PULLING: 'Chips pulling'>), deck=<Deck.STANDARD: (2c, 2d, 2h, 2s, 3c, 3d, 3h, 3s, 4c, 4d, 4h, 4s, 5c, 5d, 5h, 5s, 6c, 6d, 6h, 6s, 7c, 7d, 7h, 7s, 8c, 8d, 8h, 8s, 9c, 9d, 9h, 9s, Tc, Td, Th, Ts, Jc, Jd, Jh, Js, Qc, Qd, Qh, Qs, Kc, Kd, Kh, Ks, Ac, Ad, Ah, As)>, hand_types=(<class 'pokerkit.hands.StandardHighHand'>,), streets=(Street(card_burning_status=False, hole_dealing_statuses=(False, False), board_dealing_count=0, draw_status=False, opening=<Opening.POSITION: 'Position'>, min_completion_betting_or_raising_amount=2, max_completion_betting_or_raising_count=None), Street(card_burning_status=True, hole_dealing_statuses=(), board_dealing_count=3, draw_status=False, opening=<Opening.POSITION: 'Position'>, min_completion_betting_or_raising_amount=2, max_completion_betting_or_raising_count=None), Street(card_burning_status=True, hole_dealing_statuses=(), board_dealing_count=1, draw_status=False, opening=<Opening.POSITION: 'Position'>, min_completion_betting_or_raising_amount=2, max_completion_betting_or_raising_count=None), Street(card_burning_status=True, hole_dealing_statuses=(), board_dealing_count=1, draw_status=False, opening=<Opening.POSITION: 'Position'>, min_completion_betting_or_raising_amount=2, max_completion_betting_or_raising_count=None)), betting_structure=<BettingStructure.NO_LIMIT: 'No-limit'>, ante_trimming_status=True, bring_in=0, player_count=2, mode=<Mode.CASH_GAME: 'Cash-game'>, starting_board_count=1, divmod=<function divmod at 0x0000029799B8DF80>, rake=<function rake at 0x0000029799B8E020>, antes=(0, 0), blinds_or_straddles=(1, 2), starting_stacks=(200, 200), deck_cards=deque([Qs, Kc, 9c, As, 8s, Qc, 6s, 8h, 2s, Ts, 2h, Js, 4c, Jh, Qh, Jc, 6c, 4d, 3s, 8d, 2d, Ac, 5d, 7s, 3c, 7d, 8c, Kd, 5h, 9s, 6h, 5s, 7h, 4h, Th, Td, 7c, 2c, 3d, Tc]), board_cards=[[5c], [Qd], [4s], [Ks], [3h]], mucked_cards=[6d, Ah], burn_cards=[Ad, 9h, Jd], statuses=[True, False], bets=[0, 0], stacks=[207, 193], payoffs=[7, -7], hole_cards=[[Kh, 9d], []], hole_card_statuses=[[True, True], []], discarded_cards=[[], [], [], []], street_index=None, street_return_index=None, street_return_count=0, all_in_status=False, status=False, operations=[BlindOrStraddlePosting(commentary=None, player_index=0, amount=2), BlindOrStraddlePosting(commentary=None, player_index=1, amount=1), HoleDealing(commentary=None, player_index=0, cards=(Kh,), statuses=(False,)), HoleDealing(commentary=None, player_index=1, cards=(6d,), statuses=(False,)), HoleDealing(commentary=None, player_index=0, cards=(9d,), statuses=(False,)), HoleDealing(commentary=None, player_index=1, cards=(Ah,), statuses=(False,)), CheckingOrCalling(commentary=None, player_index=1, amount=1), CheckingOrCalling(commentary=None, player_index=0, amount=0), BetCollection(commentary=None, bets=(2, 2)), CardBurning(commentary=None, card=Ad), BoardDealing(commentary=None, cards=(5c, Qd, 4s)), CheckingOrCalling(commentary=None, player_index=0, amount=0), CheckingOrCalling(commentary=None, player_index=1, amount=0), CardBurning(commentary=None, card=9h), BoardDealing(commentary=None, cards=(Ks,)), CompletionBettingOrRaisingTo(commentary=None, player_index=0, amount=5), CheckingOrCalling(commentary=None, player_index=1, amount=5), BetCollection(commentary=None, bets=(5, 5)), CardBurning(commentary=None, card=Jd), BoardDealing(commentary=None, cards=(3h,)), CheckingOrCalling(commentary=None, player_index=0, amount=0), CheckingOrCalling(commentary=None, player_index=1, amount=0), HoleCardsShowingOrMucking(commentary=None, player_index=0, hole_cards=(Kh, 9d)), HoleCardsShowingOrMucking(commentary=None, player_index=1, hole_cards=()), ChipsPushing(commentary=None, amounts=(14, 0), pot_index=0, board_index=-1, hand_type_index=-1), ChipsPulling(commentary=None, player_index=0, amount=14)], ante_posting_statuses=[False, False], bet_collection_status=False, blind_or_straddle_posting_statuses=[False, False], card_burning_status=False, hole_dealing_statuses=[deque([]), deque([])], board_dealing_counts=[0], standing_pat_or_discarding_statuses=[False, False], opener_index=0, bring_in_status=False, completion_status=False, actor_indices=deque([]), completion_betting_or_raising_amount=0, completion_betting_or_raising_count=0, runout_count_selector_statuses=[False, False], runout_count=None, runout_count_selection_flag=True, showdown_indices=deque([]), hand_killing_statuses=[False, False], _pots=[Pot(raked_amount=0, unraked_amount=0, player_indices=(0,))], _sub_pots=[], chips_pulling_statuses=[False, False])"
      ]
     },
     "execution_count": 192,
     "metadata": {},
     "output_type": "execute_result"
    }
   ],
   "source": [
    "state"
   ]
  },
  {
   "cell_type": "markdown",
   "metadata": {},
   "source": [
    "### Turn"
   ]
  },
  {
   "cell_type": "code",
   "execution_count": 169,
   "metadata": {},
   "outputs": [
    {
     "name": "stdout",
     "output_type": "stream",
     "text": [
      "CardBurning(commentary=None, card=Ks)\n"
     ]
    }
   ],
   "source": [
    "print(state.burn_card())"
   ]
  },
  {
   "cell_type": "code",
   "execution_count": 170,
   "metadata": {},
   "outputs": [
    {
     "name": "stdout",
     "output_type": "stream",
     "text": [
      "BoardDealing(commentary=None, cards=(3c,))\n"
     ]
    }
   ],
   "source": [
    "print(state.deal_board())"
   ]
  },
  {
   "cell_type": "code",
   "execution_count": 171,
   "metadata": {},
   "outputs": [
    {
     "name": "stdout",
     "output_type": "stream",
     "text": [
      "CompletionBettingOrRaisingTo(commentary=None, player_index=0, amount=4)\n",
      "CheckingOrCalling(commentary=None, player_index=1, amount=4)\n"
     ]
    }
   ],
   "source": [
    "print(state.complete_bet_or_raise_to(4))\n",
    "print(state.check_or_call())"
   ]
  },
  {
   "cell_type": "markdown",
   "metadata": {},
   "source": [
    "### River"
   ]
  },
  {
   "cell_type": "code",
   "execution_count": 172,
   "metadata": {},
   "outputs": [
    {
     "name": "stdout",
     "output_type": "stream",
     "text": [
      "CardBurning(commentary=None, card=5c)\n"
     ]
    }
   ],
   "source": [
    "print(state.burn_card())"
   ]
  },
  {
   "cell_type": "code",
   "execution_count": 173,
   "metadata": {},
   "outputs": [
    {
     "name": "stdout",
     "output_type": "stream",
     "text": [
      "BoardDealing(commentary=None, cards=(3s,))\n"
     ]
    }
   ],
   "source": [
    "print(state.deal_board())"
   ]
  },
  {
   "cell_type": "code",
   "execution_count": 174,
   "metadata": {},
   "outputs": [
    {
     "name": "stdout",
     "output_type": "stream",
     "text": [
      "CheckingOrCalling(commentary=None, player_index=0, amount=0)\n",
      "CheckingOrCalling(commentary=None, player_index=1, amount=0)\n"
     ]
    }
   ],
   "source": [
    "print(state.check_or_call())\n",
    "print(state.check_or_call())"
   ]
  },
  {
   "cell_type": "code",
   "execution_count": 175,
   "metadata": {},
   "outputs": [
    {
     "data": {
      "text/plain": [
       "[6, -6]"
      ]
     },
     "execution_count": 175,
     "metadata": {},
     "output_type": "execute_result"
    }
   ],
   "source": [
    "state.payoffs"
   ]
  },
  {
   "cell_type": "code",
   "execution_count": 176,
   "metadata": {},
   "outputs": [
    {
     "data": {
      "text/plain": [
       "False"
      ]
     },
     "execution_count": 176,
     "metadata": {},
     "output_type": "execute_result"
    }
   ],
   "source": [
    "state.can_deal_hole()"
   ]
  },
  {
   "cell_type": "code",
   "execution_count": 177,
   "metadata": {},
   "outputs": [
    {
     "data": {
      "text/plain": [
       "False"
      ]
     },
     "execution_count": 177,
     "metadata": {},
     "output_type": "execute_result"
    }
   ],
   "source": [
    "state.can_burn_card()"
   ]
  },
  {
   "cell_type": "code",
   "execution_count": 178,
   "metadata": {},
   "outputs": [
    {
     "data": {
      "text/plain": [
       "False"
      ]
     },
     "execution_count": 178,
     "metadata": {},
     "output_type": "execute_result"
    }
   ],
   "source": [
    "state.can_collect_bets()"
   ]
  },
  {
   "cell_type": "code",
   "execution_count": 179,
   "metadata": {},
   "outputs": [
    {
     "data": {
      "text/plain": [
       "True"
      ]
     },
     "execution_count": 179,
     "metadata": {},
     "output_type": "execute_result"
    }
   ],
   "source": [
    "state.can_no_operate()"
   ]
  },
  {
   "cell_type": "code",
   "execution_count": 180,
   "metadata": {},
   "outputs": [
    {
     "data": {
      "text/plain": [
       "False"
      ]
     },
     "execution_count": 180,
     "metadata": {},
     "output_type": "execute_result"
    }
   ],
   "source": [
    "state.can_complete_bet_or_raise_to()"
   ]
  },
  {
   "cell_type": "code",
   "execution_count": 181,
   "metadata": {},
   "outputs": [
    {
     "data": {
      "text/plain": [
       "False"
      ]
     },
     "execution_count": 181,
     "metadata": {},
     "output_type": "execute_result"
    }
   ],
   "source": [
    "state.can_kill_hand()"
   ]
  },
  {
   "cell_type": "code",
   "execution_count": 182,
   "metadata": {},
   "outputs": [
    {
     "data": {
      "text/plain": [
       "False"
      ]
     },
     "execution_count": 182,
     "metadata": {},
     "output_type": "execute_result"
    }
   ],
   "source": [
    "state.can_pull_chips()"
   ]
  },
  {
   "cell_type": "code",
   "execution_count": 183,
   "metadata": {},
   "outputs": [
    {
     "data": {
      "text/plain": [
       "False"
      ]
     },
     "execution_count": 183,
     "metadata": {},
     "output_type": "execute_result"
    }
   ],
   "source": [
    "state.can_push_chips()"
   ]
  },
  {
   "cell_type": "code",
   "execution_count": 187,
   "metadata": {},
   "outputs": [
    {
     "data": {
      "text/plain": [
       "True"
      ]
     },
     "execution_count": 187,
     "metadata": {},
     "output_type": "execute_result"
    }
   ],
   "source": [
    "state.can_win_now(0)"
   ]
  },
  {
   "cell_type": "code",
   "execution_count": 185,
   "metadata": {},
   "outputs": [
    {
     "data": {
      "text/plain": [
       "False"
      ]
     },
     "execution_count": 185,
     "metadata": {},
     "output_type": "execute_result"
    }
   ],
   "source": [
    "state.can_show_or_muck_hole_cards()"
   ]
  },
  {
   "cell_type": "code",
   "execution_count": 186,
   "metadata": {},
   "outputs": [
    {
     "data": {
      "text/plain": [
       "False"
      ]
     },
     "execution_count": 186,
     "metadata": {},
     "output_type": "execute_result"
    }
   ],
   "source": [
    "state.can_stand_pat_or_discard()"
   ]
  },
  {
   "cell_type": "code",
   "execution_count": null,
   "metadata": {},
   "outputs": [
    {
     "data": {
      "text/plain": [
       "False"
      ]
     },
     "execution_count": 195,
     "metadata": {},
     "output_type": "execute_result"
    }
   ],
   "source": [
    "state."
   ]
  }
 ],
 "metadata": {
  "kernelspec": {
   "display_name": "Python 3",
   "language": "python",
   "name": "python3"
  },
  "language_info": {
   "codemirror_mode": {
    "name": "ipython",
    "version": 3
   },
   "file_extension": ".py",
   "mimetype": "text/x-python",
   "name": "python",
   "nbconvert_exporter": "python",
   "pygments_lexer": "ipython3",
   "version": "3.11.5"
  }
 },
 "nbformat": 4,
 "nbformat_minor": 2
}
